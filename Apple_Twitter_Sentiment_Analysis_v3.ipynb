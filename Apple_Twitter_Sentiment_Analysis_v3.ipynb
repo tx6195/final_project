{
  "nbformat": 4,
  "nbformat_minor": 0,
  "metadata": {
    "colab": {
      "provenance": []
    },
    "kernelspec": {
      "name": "python3",
      "display_name": "Python 3"
    },
    "language_info": {
      "name": "python"
    }
  },
  "cells": [
    {
      "cell_type": "markdown",
      "source": [
        "This is the third iteration of this notebook. In this version I dropped all columns from the data except text and sentiment, and reduced sentiment scores to a binary"
      ],
      "metadata": {
        "id": "Xjno1aGgN4KJ"
      }
    },
    {
      "cell_type": "code",
      "execution_count": null,
      "metadata": {
        "id": "a5IExTUMG5pa"
      },
      "outputs": [],
      "source": [
        "import re # import regular expressions\n",
        "import numpy as np # imports the numpy library, useful for arrays\n",
        "import pandas as pd # imports the pandas library, useful for data stored in tables\n",
        "import matplotlib.pyplot as plt #plotting library used for creating visualizations\n",
        "import seaborn as sns # data visualization library based on matplotlib\n",
        "import nltk # imports the Natural Language ToolKit\n",
        "from nltk.stem import WordNetLemmatizer # imports the WordNetLemmatizer; useful for grouping together different forms of a word\n",
        "from sklearn.svm import LinearSVC # imports the Linear Support Vector Classification class\n",
        "from sklearn.naive_bayes import BernoulliNB # Imports the BernoulliNB class\n",
        "from sklearn.linear_model import LogisticRegression # Imports the Logistic Regression class\n",
        "from sklearn.model_selection import train_test_split # Imports the train_test_split function, used to split a dataset\n",
        "from sklearn.feature_extraction.text import TfidfVectorizer # converts raw documents to a matrix of TF-IDF features (converts text into numbers)\n",
        "from sklearn.metrics import classification_report # measures the quality of predictions from a classification algorithm\n",
        "from sklearn.pipeline import Pipeline # pipelines assemble several steps of a process together"
      ]
    },
    {
      "cell_type": "code",
      "source": [
        "nltk.download('omw-1.4') # downloads the Open Multilingual Wordnet, a database of English where different parts of speech are grouped into sets of cognitive synonyms\n",
        "nltk.download('wordnet') # downloads the WordNet specifically for English"
      ],
      "metadata": {
        "colab": {
          "base_uri": "https://localhost:8080/"
        },
        "id": "gSGdHPxHII2u",
        "outputId": "1352be83-1456-486b-a111-6ec0a9180790"
      },
      "execution_count": null,
      "outputs": [
        {
          "output_type": "stream",
          "name": "stderr",
          "text": [
            "[nltk_data] Downloading package omw-1.4 to /root/nltk_data...\n",
            "[nltk_data]   Package omw-1.4 is already up-to-date!\n",
            "[nltk_data] Downloading package wordnet to /root/nltk_data...\n",
            "[nltk_data]   Package wordnet is already up-to-date!\n"
          ]
        },
        {
          "output_type": "execute_result",
          "data": {
            "text/plain": [
              "True"
            ]
          },
          "metadata": {},
          "execution_count": 177
        }
      ]
    },
    {
      "cell_type": "code",
      "source": [
        "encoding = \"ISO-8859-1\" # a character encoding standard for Western European languages"
      ],
      "metadata": {
        "id": "3SonrvIbIlDV"
      },
      "execution_count": null,
      "outputs": []
    },
    {
      "cell_type": "code",
      "source": [
        "data = pd.read_csv('/content/drive/MyDrive/Colab Notebooks/Apple-Twitter-Sentiment-DFE.csv', encoding = encoding) # creates a dataframe using the read_csv function from the pandas library"
      ],
      "metadata": {
        "id": "lBSCUrBUIlAz"
      },
      "execution_count": null,
      "outputs": []
    },
    {
      "cell_type": "code",
      "source": [
        "data.head() # displays the first few rows of the dataset"
      ],
      "metadata": {
        "colab": {
          "base_uri": "https://localhost:8080/",
          "height": 293
        },
        "id": "TEtDCk2CIk95",
        "outputId": "08a87d67-70e9-47ea-d2df-6e4409c9ea39"
      },
      "execution_count": null,
      "outputs": [
        {
          "output_type": "execute_result",
          "data": {
            "text/plain": [
              "    _unit_id  _golden _unit_state  _trusted_judgments _last_judgment_at  \\\n",
              "0  623495513     True      golden                  10               NaN   \n",
              "1  623495514     True      golden                  12               NaN   \n",
              "2  623495515     True      golden                  10               NaN   \n",
              "3  623495516     True      golden                  17               NaN   \n",
              "4  623495517    False   finalized                   3    12/12/14 12:14   \n",
              "\n",
              "  sentiment  sentiment:confidence                            date  \\\n",
              "0         3                0.6264  Mon Dec 01 19:30:03 +0000 2014   \n",
              "1         3                0.8129  Mon Dec 01 19:43:51 +0000 2014   \n",
              "2         3                1.0000  Mon Dec 01 19:50:28 +0000 2014   \n",
              "3         3                0.5848  Mon Dec 01 20:26:34 +0000 2014   \n",
              "4         3                0.6474  Mon Dec 01 20:29:33 +0000 2014   \n",
              "\n",
              "             id            query   sentiment_gold  \\\n",
              "0  5.400000e+17  #AAPL OR @Apple  3\\nnot_relevant   \n",
              "1  5.400000e+17  #AAPL OR @Apple             3\\n1   \n",
              "2  5.400000e+17  #AAPL OR @Apple                3   \n",
              "3  5.400000e+17  #AAPL OR @Apple             3\\n1   \n",
              "4  5.400000e+17  #AAPL OR @Apple              NaN   \n",
              "\n",
              "                                                                                                                                       text  \n",
              "0                                                                         #AAPL:The 10 best Steve Jobs emails ever...http://t.co/82G1kL94tx  \n",
              "1                                           RT @JPDesloges: Why AAPL Stock Had a Mini-Flash Crash Today $AAPL #aapl\\nhttp://t.co/hGFcjYa0E9  \n",
              "2                                                                                       My cat only chews @apple cords. Such an #AppleSnob.  \n",
              "3  I agree with @jimcramer that the #IndividualInvestor should own not trade #Apple #AAPL, it's extended so today's pullback is good to see  \n",
              "4                                                                                              Nobody expects the Spanish Inquisition #AAPL  "
            ],
            "text/html": [
              "\n",
              "  <div id=\"df-ae25426b-f646-4cb0-9890-8c4414fecf26\" class=\"colab-df-container\">\n",
              "    <div>\n",
              "<style scoped>\n",
              "    .dataframe tbody tr th:only-of-type {\n",
              "        vertical-align: middle;\n",
              "    }\n",
              "\n",
              "    .dataframe tbody tr th {\n",
              "        vertical-align: top;\n",
              "    }\n",
              "\n",
              "    .dataframe thead th {\n",
              "        text-align: right;\n",
              "    }\n",
              "</style>\n",
              "<table border=\"1\" class=\"dataframe\">\n",
              "  <thead>\n",
              "    <tr style=\"text-align: right;\">\n",
              "      <th></th>\n",
              "      <th>_unit_id</th>\n",
              "      <th>_golden</th>\n",
              "      <th>_unit_state</th>\n",
              "      <th>_trusted_judgments</th>\n",
              "      <th>_last_judgment_at</th>\n",
              "      <th>sentiment</th>\n",
              "      <th>sentiment:confidence</th>\n",
              "      <th>date</th>\n",
              "      <th>id</th>\n",
              "      <th>query</th>\n",
              "      <th>sentiment_gold</th>\n",
              "      <th>text</th>\n",
              "    </tr>\n",
              "  </thead>\n",
              "  <tbody>\n",
              "    <tr>\n",
              "      <th>0</th>\n",
              "      <td>623495513</td>\n",
              "      <td>True</td>\n",
              "      <td>golden</td>\n",
              "      <td>10</td>\n",
              "      <td>NaN</td>\n",
              "      <td>3</td>\n",
              "      <td>0.6264</td>\n",
              "      <td>Mon Dec 01 19:30:03 +0000 2014</td>\n",
              "      <td>5.400000e+17</td>\n",
              "      <td>#AAPL OR @Apple</td>\n",
              "      <td>3\\nnot_relevant</td>\n",
              "      <td>#AAPL:The 10 best Steve Jobs emails ever...http://t.co/82G1kL94tx</td>\n",
              "    </tr>\n",
              "    <tr>\n",
              "      <th>1</th>\n",
              "      <td>623495514</td>\n",
              "      <td>True</td>\n",
              "      <td>golden</td>\n",
              "      <td>12</td>\n",
              "      <td>NaN</td>\n",
              "      <td>3</td>\n",
              "      <td>0.8129</td>\n",
              "      <td>Mon Dec 01 19:43:51 +0000 2014</td>\n",
              "      <td>5.400000e+17</td>\n",
              "      <td>#AAPL OR @Apple</td>\n",
              "      <td>3\\n1</td>\n",
              "      <td>RT @JPDesloges: Why AAPL Stock Had a Mini-Flash Crash Today $AAPL #aapl\\nhttp://t.co/hGFcjYa0E9</td>\n",
              "    </tr>\n",
              "    <tr>\n",
              "      <th>2</th>\n",
              "      <td>623495515</td>\n",
              "      <td>True</td>\n",
              "      <td>golden</td>\n",
              "      <td>10</td>\n",
              "      <td>NaN</td>\n",
              "      <td>3</td>\n",
              "      <td>1.0000</td>\n",
              "      <td>Mon Dec 01 19:50:28 +0000 2014</td>\n",
              "      <td>5.400000e+17</td>\n",
              "      <td>#AAPL OR @Apple</td>\n",
              "      <td>3</td>\n",
              "      <td>My cat only chews @apple cords. Such an #AppleSnob.</td>\n",
              "    </tr>\n",
              "    <tr>\n",
              "      <th>3</th>\n",
              "      <td>623495516</td>\n",
              "      <td>True</td>\n",
              "      <td>golden</td>\n",
              "      <td>17</td>\n",
              "      <td>NaN</td>\n",
              "      <td>3</td>\n",
              "      <td>0.5848</td>\n",
              "      <td>Mon Dec 01 20:26:34 +0000 2014</td>\n",
              "      <td>5.400000e+17</td>\n",
              "      <td>#AAPL OR @Apple</td>\n",
              "      <td>3\\n1</td>\n",
              "      <td>I agree with @jimcramer that the #IndividualInvestor should own not trade #Apple #AAPL, it's extended so today's pullback is good to see</td>\n",
              "    </tr>\n",
              "    <tr>\n",
              "      <th>4</th>\n",
              "      <td>623495517</td>\n",
              "      <td>False</td>\n",
              "      <td>finalized</td>\n",
              "      <td>3</td>\n",
              "      <td>12/12/14 12:14</td>\n",
              "      <td>3</td>\n",
              "      <td>0.6474</td>\n",
              "      <td>Mon Dec 01 20:29:33 +0000 2014</td>\n",
              "      <td>5.400000e+17</td>\n",
              "      <td>#AAPL OR @Apple</td>\n",
              "      <td>NaN</td>\n",
              "      <td>Nobody expects the Spanish Inquisition #AAPL</td>\n",
              "    </tr>\n",
              "  </tbody>\n",
              "</table>\n",
              "</div>\n",
              "    <div class=\"colab-df-buttons\">\n",
              "\n",
              "  <div class=\"colab-df-container\">\n",
              "    <button class=\"colab-df-convert\" onclick=\"convertToInteractive('df-ae25426b-f646-4cb0-9890-8c4414fecf26')\"\n",
              "            title=\"Convert this dataframe to an interactive table.\"\n",
              "            style=\"display:none;\">\n",
              "\n",
              "  <svg xmlns=\"http://www.w3.org/2000/svg\" height=\"24px\" viewBox=\"0 -960 960 960\">\n",
              "    <path d=\"M120-120v-720h720v720H120Zm60-500h600v-160H180v160Zm220 220h160v-160H400v160Zm0 220h160v-160H400v160ZM180-400h160v-160H180v160Zm440 0h160v-160H620v160ZM180-180h160v-160H180v160Zm440 0h160v-160H620v160Z\"/>\n",
              "  </svg>\n",
              "    </button>\n",
              "\n",
              "  <style>\n",
              "    .colab-df-container {\n",
              "      display:flex;\n",
              "      gap: 12px;\n",
              "    }\n",
              "\n",
              "    .colab-df-convert {\n",
              "      background-color: #E8F0FE;\n",
              "      border: none;\n",
              "      border-radius: 50%;\n",
              "      cursor: pointer;\n",
              "      display: none;\n",
              "      fill: #1967D2;\n",
              "      height: 32px;\n",
              "      padding: 0 0 0 0;\n",
              "      width: 32px;\n",
              "    }\n",
              "\n",
              "    .colab-df-convert:hover {\n",
              "      background-color: #E2EBFA;\n",
              "      box-shadow: 0px 1px 2px rgba(60, 64, 67, 0.3), 0px 1px 3px 1px rgba(60, 64, 67, 0.15);\n",
              "      fill: #174EA6;\n",
              "    }\n",
              "\n",
              "    .colab-df-buttons div {\n",
              "      margin-bottom: 4px;\n",
              "    }\n",
              "\n",
              "    [theme=dark] .colab-df-convert {\n",
              "      background-color: #3B4455;\n",
              "      fill: #D2E3FC;\n",
              "    }\n",
              "\n",
              "    [theme=dark] .colab-df-convert:hover {\n",
              "      background-color: #434B5C;\n",
              "      box-shadow: 0px 1px 3px 1px rgba(0, 0, 0, 0.15);\n",
              "      filter: drop-shadow(0px 1px 2px rgba(0, 0, 0, 0.3));\n",
              "      fill: #FFFFFF;\n",
              "    }\n",
              "  </style>\n",
              "\n",
              "    <script>\n",
              "      const buttonEl =\n",
              "        document.querySelector('#df-ae25426b-f646-4cb0-9890-8c4414fecf26 button.colab-df-convert');\n",
              "      buttonEl.style.display =\n",
              "        google.colab.kernel.accessAllowed ? 'block' : 'none';\n",
              "\n",
              "      async function convertToInteractive(key) {\n",
              "        const element = document.querySelector('#df-ae25426b-f646-4cb0-9890-8c4414fecf26');\n",
              "        const dataTable =\n",
              "          await google.colab.kernel.invokeFunction('convertToInteractive',\n",
              "                                                    [key], {});\n",
              "        if (!dataTable) return;\n",
              "\n",
              "        const docLinkHtml = 'Like what you see? Visit the ' +\n",
              "          '<a target=\"_blank\" href=https://colab.research.google.com/notebooks/data_table.ipynb>data table notebook</a>'\n",
              "          + ' to learn more about interactive tables.';\n",
              "        element.innerHTML = '';\n",
              "        dataTable['output_type'] = 'display_data';\n",
              "        await google.colab.output.renderOutput(dataTable, element);\n",
              "        const docLink = document.createElement('div');\n",
              "        docLink.innerHTML = docLinkHtml;\n",
              "        element.appendChild(docLink);\n",
              "      }\n",
              "    </script>\n",
              "  </div>\n",
              "\n",
              "\n",
              "<div id=\"df-8484f664-0701-43b6-989d-8a6133d484c1\">\n",
              "  <button class=\"colab-df-quickchart\" onclick=\"quickchart('df-8484f664-0701-43b6-989d-8a6133d484c1')\"\n",
              "            title=\"Suggest charts\"\n",
              "            style=\"display:none;\">\n",
              "\n",
              "<svg xmlns=\"http://www.w3.org/2000/svg\" height=\"24px\"viewBox=\"0 0 24 24\"\n",
              "     width=\"24px\">\n",
              "    <g>\n",
              "        <path d=\"M19 3H5c-1.1 0-2 .9-2 2v14c0 1.1.9 2 2 2h14c1.1 0 2-.9 2-2V5c0-1.1-.9-2-2-2zM9 17H7v-7h2v7zm4 0h-2V7h2v10zm4 0h-2v-4h2v4z\"/>\n",
              "    </g>\n",
              "</svg>\n",
              "  </button>\n",
              "\n",
              "<style>\n",
              "  .colab-df-quickchart {\n",
              "      --bg-color: #E8F0FE;\n",
              "      --fill-color: #1967D2;\n",
              "      --hover-bg-color: #E2EBFA;\n",
              "      --hover-fill-color: #174EA6;\n",
              "      --disabled-fill-color: #AAA;\n",
              "      --disabled-bg-color: #DDD;\n",
              "  }\n",
              "\n",
              "  [theme=dark] .colab-df-quickchart {\n",
              "      --bg-color: #3B4455;\n",
              "      --fill-color: #D2E3FC;\n",
              "      --hover-bg-color: #434B5C;\n",
              "      --hover-fill-color: #FFFFFF;\n",
              "      --disabled-bg-color: #3B4455;\n",
              "      --disabled-fill-color: #666;\n",
              "  }\n",
              "\n",
              "  .colab-df-quickchart {\n",
              "    background-color: var(--bg-color);\n",
              "    border: none;\n",
              "    border-radius: 50%;\n",
              "    cursor: pointer;\n",
              "    display: none;\n",
              "    fill: var(--fill-color);\n",
              "    height: 32px;\n",
              "    padding: 0;\n",
              "    width: 32px;\n",
              "  }\n",
              "\n",
              "  .colab-df-quickchart:hover {\n",
              "    background-color: var(--hover-bg-color);\n",
              "    box-shadow: 0 1px 2px rgba(60, 64, 67, 0.3), 0 1px 3px 1px rgba(60, 64, 67, 0.15);\n",
              "    fill: var(--button-hover-fill-color);\n",
              "  }\n",
              "\n",
              "  .colab-df-quickchart-complete:disabled,\n",
              "  .colab-df-quickchart-complete:disabled:hover {\n",
              "    background-color: var(--disabled-bg-color);\n",
              "    fill: var(--disabled-fill-color);\n",
              "    box-shadow: none;\n",
              "  }\n",
              "\n",
              "  .colab-df-spinner {\n",
              "    border: 2px solid var(--fill-color);\n",
              "    border-color: transparent;\n",
              "    border-bottom-color: var(--fill-color);\n",
              "    animation:\n",
              "      spin 1s steps(1) infinite;\n",
              "  }\n",
              "\n",
              "  @keyframes spin {\n",
              "    0% {\n",
              "      border-color: transparent;\n",
              "      border-bottom-color: var(--fill-color);\n",
              "      border-left-color: var(--fill-color);\n",
              "    }\n",
              "    20% {\n",
              "      border-color: transparent;\n",
              "      border-left-color: var(--fill-color);\n",
              "      border-top-color: var(--fill-color);\n",
              "    }\n",
              "    30% {\n",
              "      border-color: transparent;\n",
              "      border-left-color: var(--fill-color);\n",
              "      border-top-color: var(--fill-color);\n",
              "      border-right-color: var(--fill-color);\n",
              "    }\n",
              "    40% {\n",
              "      border-color: transparent;\n",
              "      border-right-color: var(--fill-color);\n",
              "      border-top-color: var(--fill-color);\n",
              "    }\n",
              "    60% {\n",
              "      border-color: transparent;\n",
              "      border-right-color: var(--fill-color);\n",
              "    }\n",
              "    80% {\n",
              "      border-color: transparent;\n",
              "      border-right-color: var(--fill-color);\n",
              "      border-bottom-color: var(--fill-color);\n",
              "    }\n",
              "    90% {\n",
              "      border-color: transparent;\n",
              "      border-bottom-color: var(--fill-color);\n",
              "    }\n",
              "  }\n",
              "</style>\n",
              "\n",
              "  <script>\n",
              "    async function quickchart(key) {\n",
              "      const quickchartButtonEl =\n",
              "        document.querySelector('#' + key + ' button');\n",
              "      quickchartButtonEl.disabled = true;  // To prevent multiple clicks.\n",
              "      quickchartButtonEl.classList.add('colab-df-spinner');\n",
              "      try {\n",
              "        const charts = await google.colab.kernel.invokeFunction(\n",
              "            'suggestCharts', [key], {});\n",
              "      } catch (error) {\n",
              "        console.error('Error during call to suggestCharts:', error);\n",
              "      }\n",
              "      quickchartButtonEl.classList.remove('colab-df-spinner');\n",
              "      quickchartButtonEl.classList.add('colab-df-quickchart-complete');\n",
              "    }\n",
              "    (() => {\n",
              "      let quickchartButtonEl =\n",
              "        document.querySelector('#df-8484f664-0701-43b6-989d-8a6133d484c1 button');\n",
              "      quickchartButtonEl.style.display =\n",
              "        google.colab.kernel.accessAllowed ? 'block' : 'none';\n",
              "    })();\n",
              "  </script>\n",
              "</div>\n",
              "\n",
              "    </div>\n",
              "  </div>\n"
            ]
          },
          "metadata": {},
          "execution_count": 180
        }
      ]
    },
    {
      "cell_type": "code",
      "source": [
        "data.describe() # generates a summary of statistics"
      ],
      "metadata": {
        "colab": {
          "base_uri": "https://localhost:8080/",
          "height": 300
        },
        "id": "v_0Gkk-5Y7al",
        "outputId": "3bba4f75-8adf-4a18-ac4d-3c0069a73535"
      },
      "execution_count": null,
      "outputs": [
        {
          "output_type": "execute_result",
          "data": {
            "text/plain": [
              "           _unit_id  _trusted_judgments  sentiment:confidence            id\n",
              "count  3.886000e+03         3886.000000           3886.000000  3.886000e+03\n",
              "mean   6.234975e+08            3.687082              0.829526  5.410039e+17\n",
              "std    1.171906e+03            2.004595              0.175864  7.942752e+14\n",
              "min    6.234955e+08            3.000000              0.332700  5.400000e+17\n",
              "25%    6.234965e+08            3.000000              0.674475  5.400000e+17\n",
              "50%    6.234975e+08            3.000000              0.811250  5.410000e+17\n",
              "75%    6.234984e+08            3.000000              1.000000  5.420000e+17\n",
              "max    6.235173e+08           27.000000              1.000000  5.420000e+17"
            ],
            "text/html": [
              "\n",
              "  <div id=\"df-e42f0038-57d4-470a-90a6-b53340c6a586\" class=\"colab-df-container\">\n",
              "    <div>\n",
              "<style scoped>\n",
              "    .dataframe tbody tr th:only-of-type {\n",
              "        vertical-align: middle;\n",
              "    }\n",
              "\n",
              "    .dataframe tbody tr th {\n",
              "        vertical-align: top;\n",
              "    }\n",
              "\n",
              "    .dataframe thead th {\n",
              "        text-align: right;\n",
              "    }\n",
              "</style>\n",
              "<table border=\"1\" class=\"dataframe\">\n",
              "  <thead>\n",
              "    <tr style=\"text-align: right;\">\n",
              "      <th></th>\n",
              "      <th>_unit_id</th>\n",
              "      <th>_trusted_judgments</th>\n",
              "      <th>sentiment:confidence</th>\n",
              "      <th>id</th>\n",
              "    </tr>\n",
              "  </thead>\n",
              "  <tbody>\n",
              "    <tr>\n",
              "      <th>count</th>\n",
              "      <td>3.886000e+03</td>\n",
              "      <td>3886.000000</td>\n",
              "      <td>3886.000000</td>\n",
              "      <td>3.886000e+03</td>\n",
              "    </tr>\n",
              "    <tr>\n",
              "      <th>mean</th>\n",
              "      <td>6.234975e+08</td>\n",
              "      <td>3.687082</td>\n",
              "      <td>0.829526</td>\n",
              "      <td>5.410039e+17</td>\n",
              "    </tr>\n",
              "    <tr>\n",
              "      <th>std</th>\n",
              "      <td>1.171906e+03</td>\n",
              "      <td>2.004595</td>\n",
              "      <td>0.175864</td>\n",
              "      <td>7.942752e+14</td>\n",
              "    </tr>\n",
              "    <tr>\n",
              "      <th>min</th>\n",
              "      <td>6.234955e+08</td>\n",
              "      <td>3.000000</td>\n",
              "      <td>0.332700</td>\n",
              "      <td>5.400000e+17</td>\n",
              "    </tr>\n",
              "    <tr>\n",
              "      <th>25%</th>\n",
              "      <td>6.234965e+08</td>\n",
              "      <td>3.000000</td>\n",
              "      <td>0.674475</td>\n",
              "      <td>5.400000e+17</td>\n",
              "    </tr>\n",
              "    <tr>\n",
              "      <th>50%</th>\n",
              "      <td>6.234975e+08</td>\n",
              "      <td>3.000000</td>\n",
              "      <td>0.811250</td>\n",
              "      <td>5.410000e+17</td>\n",
              "    </tr>\n",
              "    <tr>\n",
              "      <th>75%</th>\n",
              "      <td>6.234984e+08</td>\n",
              "      <td>3.000000</td>\n",
              "      <td>1.000000</td>\n",
              "      <td>5.420000e+17</td>\n",
              "    </tr>\n",
              "    <tr>\n",
              "      <th>max</th>\n",
              "      <td>6.235173e+08</td>\n",
              "      <td>27.000000</td>\n",
              "      <td>1.000000</td>\n",
              "      <td>5.420000e+17</td>\n",
              "    </tr>\n",
              "  </tbody>\n",
              "</table>\n",
              "</div>\n",
              "    <div class=\"colab-df-buttons\">\n",
              "\n",
              "  <div class=\"colab-df-container\">\n",
              "    <button class=\"colab-df-convert\" onclick=\"convertToInteractive('df-e42f0038-57d4-470a-90a6-b53340c6a586')\"\n",
              "            title=\"Convert this dataframe to an interactive table.\"\n",
              "            style=\"display:none;\">\n",
              "\n",
              "  <svg xmlns=\"http://www.w3.org/2000/svg\" height=\"24px\" viewBox=\"0 -960 960 960\">\n",
              "    <path d=\"M120-120v-720h720v720H120Zm60-500h600v-160H180v160Zm220 220h160v-160H400v160Zm0 220h160v-160H400v160ZM180-400h160v-160H180v160Zm440 0h160v-160H620v160ZM180-180h160v-160H180v160Zm440 0h160v-160H620v160Z\"/>\n",
              "  </svg>\n",
              "    </button>\n",
              "\n",
              "  <style>\n",
              "    .colab-df-container {\n",
              "      display:flex;\n",
              "      gap: 12px;\n",
              "    }\n",
              "\n",
              "    .colab-df-convert {\n",
              "      background-color: #E8F0FE;\n",
              "      border: none;\n",
              "      border-radius: 50%;\n",
              "      cursor: pointer;\n",
              "      display: none;\n",
              "      fill: #1967D2;\n",
              "      height: 32px;\n",
              "      padding: 0 0 0 0;\n",
              "      width: 32px;\n",
              "    }\n",
              "\n",
              "    .colab-df-convert:hover {\n",
              "      background-color: #E2EBFA;\n",
              "      box-shadow: 0px 1px 2px rgba(60, 64, 67, 0.3), 0px 1px 3px 1px rgba(60, 64, 67, 0.15);\n",
              "      fill: #174EA6;\n",
              "    }\n",
              "\n",
              "    .colab-df-buttons div {\n",
              "      margin-bottom: 4px;\n",
              "    }\n",
              "\n",
              "    [theme=dark] .colab-df-convert {\n",
              "      background-color: #3B4455;\n",
              "      fill: #D2E3FC;\n",
              "    }\n",
              "\n",
              "    [theme=dark] .colab-df-convert:hover {\n",
              "      background-color: #434B5C;\n",
              "      box-shadow: 0px 1px 3px 1px rgba(0, 0, 0, 0.15);\n",
              "      filter: drop-shadow(0px 1px 2px rgba(0, 0, 0, 0.3));\n",
              "      fill: #FFFFFF;\n",
              "    }\n",
              "  </style>\n",
              "\n",
              "    <script>\n",
              "      const buttonEl =\n",
              "        document.querySelector('#df-e42f0038-57d4-470a-90a6-b53340c6a586 button.colab-df-convert');\n",
              "      buttonEl.style.display =\n",
              "        google.colab.kernel.accessAllowed ? 'block' : 'none';\n",
              "\n",
              "      async function convertToInteractive(key) {\n",
              "        const element = document.querySelector('#df-e42f0038-57d4-470a-90a6-b53340c6a586');\n",
              "        const dataTable =\n",
              "          await google.colab.kernel.invokeFunction('convertToInteractive',\n",
              "                                                    [key], {});\n",
              "        if (!dataTable) return;\n",
              "\n",
              "        const docLinkHtml = 'Like what you see? Visit the ' +\n",
              "          '<a target=\"_blank\" href=https://colab.research.google.com/notebooks/data_table.ipynb>data table notebook</a>'\n",
              "          + ' to learn more about interactive tables.';\n",
              "        element.innerHTML = '';\n",
              "        dataTable['output_type'] = 'display_data';\n",
              "        await google.colab.output.renderOutput(dataTable, element);\n",
              "        const docLink = document.createElement('div');\n",
              "        docLink.innerHTML = docLinkHtml;\n",
              "        element.appendChild(docLink);\n",
              "      }\n",
              "    </script>\n",
              "  </div>\n",
              "\n",
              "\n",
              "<div id=\"df-6ddac1dd-2a35-482c-91d9-1718a23c67ac\">\n",
              "  <button class=\"colab-df-quickchart\" onclick=\"quickchart('df-6ddac1dd-2a35-482c-91d9-1718a23c67ac')\"\n",
              "            title=\"Suggest charts\"\n",
              "            style=\"display:none;\">\n",
              "\n",
              "<svg xmlns=\"http://www.w3.org/2000/svg\" height=\"24px\"viewBox=\"0 0 24 24\"\n",
              "     width=\"24px\">\n",
              "    <g>\n",
              "        <path d=\"M19 3H5c-1.1 0-2 .9-2 2v14c0 1.1.9 2 2 2h14c1.1 0 2-.9 2-2V5c0-1.1-.9-2-2-2zM9 17H7v-7h2v7zm4 0h-2V7h2v10zm4 0h-2v-4h2v4z\"/>\n",
              "    </g>\n",
              "</svg>\n",
              "  </button>\n",
              "\n",
              "<style>\n",
              "  .colab-df-quickchart {\n",
              "      --bg-color: #E8F0FE;\n",
              "      --fill-color: #1967D2;\n",
              "      --hover-bg-color: #E2EBFA;\n",
              "      --hover-fill-color: #174EA6;\n",
              "      --disabled-fill-color: #AAA;\n",
              "      --disabled-bg-color: #DDD;\n",
              "  }\n",
              "\n",
              "  [theme=dark] .colab-df-quickchart {\n",
              "      --bg-color: #3B4455;\n",
              "      --fill-color: #D2E3FC;\n",
              "      --hover-bg-color: #434B5C;\n",
              "      --hover-fill-color: #FFFFFF;\n",
              "      --disabled-bg-color: #3B4455;\n",
              "      --disabled-fill-color: #666;\n",
              "  }\n",
              "\n",
              "  .colab-df-quickchart {\n",
              "    background-color: var(--bg-color);\n",
              "    border: none;\n",
              "    border-radius: 50%;\n",
              "    cursor: pointer;\n",
              "    display: none;\n",
              "    fill: var(--fill-color);\n",
              "    height: 32px;\n",
              "    padding: 0;\n",
              "    width: 32px;\n",
              "  }\n",
              "\n",
              "  .colab-df-quickchart:hover {\n",
              "    background-color: var(--hover-bg-color);\n",
              "    box-shadow: 0 1px 2px rgba(60, 64, 67, 0.3), 0 1px 3px 1px rgba(60, 64, 67, 0.15);\n",
              "    fill: var(--button-hover-fill-color);\n",
              "  }\n",
              "\n",
              "  .colab-df-quickchart-complete:disabled,\n",
              "  .colab-df-quickchart-complete:disabled:hover {\n",
              "    background-color: var(--disabled-bg-color);\n",
              "    fill: var(--disabled-fill-color);\n",
              "    box-shadow: none;\n",
              "  }\n",
              "\n",
              "  .colab-df-spinner {\n",
              "    border: 2px solid var(--fill-color);\n",
              "    border-color: transparent;\n",
              "    border-bottom-color: var(--fill-color);\n",
              "    animation:\n",
              "      spin 1s steps(1) infinite;\n",
              "  }\n",
              "\n",
              "  @keyframes spin {\n",
              "    0% {\n",
              "      border-color: transparent;\n",
              "      border-bottom-color: var(--fill-color);\n",
              "      border-left-color: var(--fill-color);\n",
              "    }\n",
              "    20% {\n",
              "      border-color: transparent;\n",
              "      border-left-color: var(--fill-color);\n",
              "      border-top-color: var(--fill-color);\n",
              "    }\n",
              "    30% {\n",
              "      border-color: transparent;\n",
              "      border-left-color: var(--fill-color);\n",
              "      border-top-color: var(--fill-color);\n",
              "      border-right-color: var(--fill-color);\n",
              "    }\n",
              "    40% {\n",
              "      border-color: transparent;\n",
              "      border-right-color: var(--fill-color);\n",
              "      border-top-color: var(--fill-color);\n",
              "    }\n",
              "    60% {\n",
              "      border-color: transparent;\n",
              "      border-right-color: var(--fill-color);\n",
              "    }\n",
              "    80% {\n",
              "      border-color: transparent;\n",
              "      border-right-color: var(--fill-color);\n",
              "      border-bottom-color: var(--fill-color);\n",
              "    }\n",
              "    90% {\n",
              "      border-color: transparent;\n",
              "      border-bottom-color: var(--fill-color);\n",
              "    }\n",
              "  }\n",
              "</style>\n",
              "\n",
              "  <script>\n",
              "    async function quickchart(key) {\n",
              "      const quickchartButtonEl =\n",
              "        document.querySelector('#' + key + ' button');\n",
              "      quickchartButtonEl.disabled = true;  // To prevent multiple clicks.\n",
              "      quickchartButtonEl.classList.add('colab-df-spinner');\n",
              "      try {\n",
              "        const charts = await google.colab.kernel.invokeFunction(\n",
              "            'suggestCharts', [key], {});\n",
              "      } catch (error) {\n",
              "        console.error('Error during call to suggestCharts:', error);\n",
              "      }\n",
              "      quickchartButtonEl.classList.remove('colab-df-spinner');\n",
              "      quickchartButtonEl.classList.add('colab-df-quickchart-complete');\n",
              "    }\n",
              "    (() => {\n",
              "      let quickchartButtonEl =\n",
              "        document.querySelector('#df-6ddac1dd-2a35-482c-91d9-1718a23c67ac button');\n",
              "      quickchartButtonEl.style.display =\n",
              "        google.colab.kernel.accessAllowed ? 'block' : 'none';\n",
              "    })();\n",
              "  </script>\n",
              "</div>\n",
              "\n",
              "    </div>\n",
              "  </div>\n"
            ]
          },
          "metadata": {},
          "execution_count": 181
        }
      ]
    },
    {
      "cell_type": "code",
      "source": [
        "print(data.columns) # prints the columns of the dataframe"
      ],
      "metadata": {
        "colab": {
          "base_uri": "https://localhost:8080/"
        },
        "id": "-BHI9wPxZY9q",
        "outputId": "d2e09345-29ef-4ec6-d8c0-08188571e444"
      },
      "execution_count": null,
      "outputs": [
        {
          "output_type": "stream",
          "name": "stdout",
          "text": [
            "Index(['_unit_id', '_golden', '_unit_state', '_trusted_judgments',\n",
            "       '_last_judgment_at', 'sentiment', 'sentiment:confidence', 'date', 'id',\n",
            "       'query', 'sentiment_gold', 'text'],\n",
            "      dtype='object')\n"
          ]
        }
      ]
    },
    {
      "cell_type": "code",
      "source": [
        "column = '_unit_id' # sets the column variable\n",
        "print(f\"Value counts for {column}:\") # prints a string that includes the column name\n",
        "print(data[column].value_counts()) # prints the value counts for the column"
      ],
      "metadata": {
        "colab": {
          "base_uri": "https://localhost:8080/"
        },
        "id": "RuPqyPlk-fQ8",
        "outputId": "fd258841-051b-4ad6-d4a9-4d0611d22b5e"
      },
      "execution_count": null,
      "outputs": [
        {
          "output_type": "stream",
          "name": "stdout",
          "text": [
            "Value counts for _unit_id:\n",
            "623495513    1\n",
            "623498140    1\n",
            "623498112    1\n",
            "623498113    1\n",
            "623498114    1\n",
            "            ..\n",
            "623496824    1\n",
            "623496825    1\n",
            "623496826    1\n",
            "623496827    1\n",
            "623517290    1\n",
            "Name: _unit_id, Length: 3886, dtype: int64\n"
          ]
        }
      ]
    },
    {
      "cell_type": "markdown",
      "source": [
        "This looks like a unique identifier for each row. This can easily be removed."
      ],
      "metadata": {
        "id": "FT2YoOh9-gnF"
      }
    },
    {
      "cell_type": "code",
      "source": [
        "column = '_golden' # sets the column variable\n",
        "print(f\"Value counts for {column}:\") # prints a string that includes the column name\n",
        "print(data[column].value_counts()) # prints the value counts for the column"
      ],
      "metadata": {
        "colab": {
          "base_uri": "https://localhost:8080/"
        },
        "id": "yldSGeDswXrL",
        "outputId": "e997e1ca-ad2e-4ff4-86dd-65d052b8a57f"
      },
      "execution_count": null,
      "outputs": [
        {
          "output_type": "stream",
          "name": "stdout",
          "text": [
            "Value counts for _golden:\n",
            "False    3783\n",
            "True      103\n",
            "Name: _golden, dtype: int64\n"
          ]
        }
      ]
    },
    {
      "cell_type": "code",
      "source": [
        "column = '_unit_state' # sets the column variable\n",
        "print(f\"Value counts for {column}:\") # prints a string that includes the column name\n",
        "print(data[column].value_counts()) # prints the value counts for the column"
      ],
      "metadata": {
        "colab": {
          "base_uri": "https://localhost:8080/"
        },
        "id": "XAquFoGRwxfS",
        "outputId": "a6e2d4f6-9b48-4a09-8347-46fe73275417"
      },
      "execution_count": null,
      "outputs": [
        {
          "output_type": "stream",
          "name": "stdout",
          "text": [
            "Value counts for _unit_state:\n",
            "finalized    3782\n",
            "golden        104\n",
            "Name: _unit_state, dtype: int64\n"
          ]
        }
      ]
    },
    {
      "cell_type": "code",
      "source": [
        "cross_tab = pd.crosstab(data['_golden'], data['_unit_state']) # creates a cross tab table\n",
        "plt.figure(figsize=(10, 7))  # sets the size of the plot\n",
        "sns.heatmap(cross_tab, annot=True, cmap='coolwarm', fmt='d') # creates a heatmap using the cross tab data\n",
        "plt.title('Relationship between _golden and _unit_state') # adds a title\n",
        "plt.ylabel('_golden') # adds a label for the y axis\n",
        "plt.xlabel('_unit_state') # adds a label for the x axis\n",
        "plt.show() # displays the plot"
      ],
      "metadata": {
        "colab": {
          "base_uri": "https://localhost:8080/",
          "height": 641
        },
        "id": "VjoLy8_Qw-0S",
        "outputId": "99de98cb-39d7-4ab1-f70b-80e17ccfc7b2"
      },
      "execution_count": null,
      "outputs": [
        {
          "output_type": "display_data",
          "data": {
            "text/plain": [
              "<Figure size 1000x700 with 2 Axes>"
            ],
            "image/png": "[encoded data removed]"
          },
          "metadata": {}
        }
      ]
    },
    {
      "cell_type": "markdown",
      "source": [
        "I'm not sure what these mean but there's a one to one relationship between these two columns."
      ],
      "metadata": {
        "id": "hvsNT7bZxAij"
      }
    },
    {
      "cell_type": "code",
      "source": [
        "column = '_trusted_judgments' # sets the column variable\n",
        "print(f\"Value counts for {column}:\") # prints a string that includes the column name\n",
        "print(data[column].value_counts()) # prints the value counts for the column"
      ],
      "metadata": {
        "colab": {
          "base_uri": "https://localhost:8080/"
        },
        "id": "dSRLXZTx_hfh",
        "outputId": "fb452182-4ad3-46af-f56d-1b307bdd50f9"
      },
      "execution_count": null,
      "outputs": [
        {
          "output_type": "stream",
          "name": "stdout",
          "text": [
            "Value counts for _trusted_judgments:\n",
            "3     3063\n",
            "6      362\n",
            "4      309\n",
            "5       29\n",
            "13      17\n",
            "12      15\n",
            "14      14\n",
            "7       11\n",
            "8       10\n",
            "16       9\n",
            "17       9\n",
            "15       9\n",
            "10       6\n",
            "11       6\n",
            "9        6\n",
            "19       5\n",
            "18       3\n",
            "22       2\n",
            "27       1\n",
            "Name: _trusted_judgments, dtype: int64\n"
          ]
        }
      ]
    },
    {
      "cell_type": "code",
      "source": [
        "mean_judgments = data.groupby('_unit_state')['_trusted_judgments'].mean() # calculates the mean of the trusted judgements column for each value of the unit state column\n",
        "mean_judgments.plot(kind='bar') # creates a bar plot\n",
        "plt.title('Average trusted judgments by unit state Category') # adds a title to the chart\n",
        "plt.xlabel('unit state') # adds a label for the x axis\n",
        "plt.ylabel('Average trusted judgments') # adds a label for the y axis\n",
        "plt.xticks(rotation=45)  # Rotate the x-labels for better readability\n",
        "plt.show() # displays the plot"
      ],
      "metadata": {
        "colab": {
          "base_uri": "https://localhost:8080/",
          "height": 509
        },
        "id": "KWt86K-uDQJt",
        "outputId": "276424a5-a00c-4554-8e4a-33d6b6b74ed9"
      },
      "execution_count": null,
      "outputs": [
        {
          "output_type": "display_data",
          "data": {
            "text/plain": [
              "<Figure size 640x480 with 1 Axes>"
            ],
            "image/png": "[encoded data removed]"
          },
          "metadata": {}
        }
      ]
    },
    {
      "cell_type": "markdown",
      "source": [
        "The golden unit state has much higher average trusted judgements than the finalized unit state."
      ],
      "metadata": {
        "id": "lxBvuHV3DTnP"
      }
    },
    {
      "cell_type": "code",
      "source": [
        "column = 'sentiment' # sets the column variable\n",
        "print(f\"Value counts for {column}:\") # prints a string that includes the column name\n",
        "print(data[column].value_counts()) # prints the value counts for the column"
      ],
      "metadata": {
        "colab": {
          "base_uri": "https://localhost:8080/"
        },
        "id": "t-PaSizx_Tse",
        "outputId": "6b0f9fbd-8e0e-468f-82e8-2b191930dcb6"
      },
      "execution_count": null,
      "outputs": [
        {
          "output_type": "stream",
          "name": "stdout",
          "text": [
            "Value counts for sentiment:\n",
            "3               2162\n",
            "1               1219\n",
            "5                423\n",
            "not_relevant      82\n",
            "Name: sentiment, dtype: int64\n"
          ]
        }
      ]
    },
    {
      "cell_type": "code",
      "source": [
        "pd.set_option('display.max_colwidth', None) # configures pandas to display the full content of each column\n",
        "not_relevant_tweets = data[data['sentiment'] == 'not_relevant'] # filters the sentiment column on the 'not_relevant' value\n",
        "tweets_text = not_relevant_tweets['text'] # extracts the text column from the filtered dataframe\n",
        "print(tweets_text.head()) # prints the results"
      ],
      "metadata": {
        "colab": {
          "base_uri": "https://localhost:8080/"
        },
        "id": "-KJHAVJW_cqZ",
        "outputId": "598e2348-777c-4087-eaea-289968d2ef4c"
      },
      "execution_count": null,
      "outputs": [
        {
          "output_type": "stream",
          "name": "stdout",
          "text": [
            "17                      @Apple John Cantlie has been a prisoner of ISIS for 739 days, show you have not abandoned him. Sign https://t.co/WTn4fuiJ0P\n",
            "20                                                                      $AAPL dip only momentarily....just an aberration in the equity world..#AAPL\n",
            "75        My daughter's @Apple #iPod stolen. To the thief: try working as hard to earn one - like my daughter had to buy hers. #LosingFaithInPeople\n",
            "106    RT  Chayton Falke ChaytonFalke :#Nasdaq100 #recent #market #exit #4: Sold $AAPL long for a 10.49% #gain in 20 days. #AAPL #forex #trading...\n",
            "115     Myths vs. Reality in Full-Time #Trading http://t.co/JH7BMS1Kgb #stocks\\r\\n#futures #forex #trader #es #nq #cl #aapl #gpro #finance #eSignal\n",
            "Name: text, dtype: object\n"
          ]
        }
      ]
    },
    {
      "cell_type": "code",
      "source": [
        "tweets_with_sentiment_5 = data[data['sentiment'] == '5'] # filters the sentiment column on the '5' value\n",
        "tweets_text = tweets_with_sentiment_5['text'] # extracts the text column from the filtered dataframe\n",
        "print(tweets_text.head()) # prints the results"
      ],
      "metadata": {
        "colab": {
          "base_uri": "https://localhost:8080/"
        },
        "id": "oQQB8I6F_sXV",
        "outputId": "f993fc74-1dc6-47a9-a70f-f386c6b13fc5"
      },
      "execution_count": null,
      "outputs": [
        {
          "output_type": "stream",
          "name": "stdout",
          "text": [
            "6                                                                                Top 3 all @Apple #tablets. Damn right! http://t.co/RJiGn2JUuB\n",
            "7                                                                  CNBCTV: #Apple's margins better than expected? #aapl http://t.co/7geVrtOGLK\n",
            "13    RT @peterpham: Bought my @AugustSmartLock at the @apple store..pretty good logo match . can't wait to install it! http://t.co/z8VKMhbnR3\n",
            "28                                          Latest Apple Products Leading in Efficiency http://t.co/KHeNlVT1FJ @apple #iPhone #iPad #plugloads\n",
            "33                                                                             RT @saxonidubom: @rwang0 @Apple Thanks...thinking of upgrading.\n",
            "Name: text, dtype: object\n"
          ]
        }
      ]
    },
    {
      "cell_type": "code",
      "source": [
        "tweets_with_sentiment_1 = data[data['sentiment'] == '1'] # filters the sentiment column on the '1' value\n",
        "tweets_text = tweets_with_sentiment_1['text'] # extracts the text column from the filtered dataframe\n",
        "print(tweets_text.head()) # prints the results"
      ],
      "metadata": {
        "colab": {
          "base_uri": "https://localhost:8080/"
        },
        "id": "-KMa7a7O_vy-",
        "outputId": "344ec57a-1d65-400b-d390-03023d8a9044"
      },
      "execution_count": null,
      "outputs": [
        {
          "output_type": "stream",
          "name": "stdout",
          "text": [
            "10                                                                         WTF MY BATTERY WAS 31% ONE SECOND AGO AND NOW IS 29% WTF IS THIS @apple\n",
            "14               @apple Contact sync between Yosemite and iOS8 is seriously screwed up. It used to be much more stable in the past. #icloud #isync\n",
            "16                                                WARNING IF YOU BUY AN IPHONE 5S UNLOCKED FROM @APPLE IPHONE YOU CANNOT USE IT ON VERIZON NETWORK\n",
            "23    @Apple, For the love of GAWD, CENTER the '1'on the damn calendar app. You fixed it once, its back, off center, AGAIN! http://t.co/dMyAHEm1Lc\n",
            "24                                                               i get the storage almost full notification literally every 5 minutes chill @apple\n",
            "Name: text, dtype: object\n"
          ]
        }
      ]
    },
    {
      "cell_type": "markdown",
      "source": [
        "It seems pretty clear that 1 is bad and 5 is good. It's unclear how to convert 'not relevant' into a number so I'm going to remove these."
      ],
      "metadata": {
        "id": "E-TYON-V_3C3"
      }
    },
    {
      "cell_type": "code",
      "source": [
        "data = data[data['sentiment'] != 'not_relevant'] # removes sentiment = not_relevant from the dataset"
      ],
      "metadata": {
        "id": "6iNIjBCf_78v"
      },
      "execution_count": null,
      "outputs": []
    },
    {
      "cell_type": "code",
      "source": [
        "data['sentiment'] = pd.to_numeric(data['sentiment'], errors='coerce') # converts sentiment to a number"
      ],
      "metadata": {
        "id": "6X53C657AYpl",
        "colab": {
          "base_uri": "https://localhost:8080/"
        },
        "outputId": "534130d8-ca6b-4955-d4d6-06e01a1ae1e1"
      },
      "execution_count": null,
      "outputs": [
        {
          "output_type": "stream",
          "name": "stderr",
          "text": [
            "<ipython-input-194-68f8f21b061f>:1: SettingWithCopyWarning: \n",
            "A value is trying to be set on a copy of a slice from a DataFrame.\n",
            "Try using .loc[row_indexer,col_indexer] = value instead\n",
            "\n",
            "See the caveats in the documentation: https://pandas.pydata.org/pandas-docs/stable/user_guide/indexing.html#returning-a-view-versus-a-copy\n",
            "  data['sentiment'] = pd.to_numeric(data['sentiment'], errors='coerce') # converts sentiment to a number\n"
          ]
        }
      ]
    },
    {
      "cell_type": "code",
      "source": [
        "column = 'sentiment:confidence' # sets the column variable\n",
        "print(f\"Value counts for {column}:\") # prints a string that includes the column name\n",
        "print(data[column].value_counts()) # prints the value counts for the column"
      ],
      "metadata": {
        "colab": {
          "base_uri": "https://localhost:8080/"
        },
        "id": "Cno4OhvqAStI",
        "outputId": "b0ef6d22-dae9-4891-c759-306b38d75a85"
      },
      "execution_count": null,
      "outputs": [
        {
          "output_type": "stream",
          "name": "stdout",
          "text": [
            "Value counts for sentiment:confidence:\n",
            "1.0000    1886\n",
            "0.6722      41\n",
            "0.6884      32\n",
            "0.6825      29\n",
            "0.6635      27\n",
            "          ... \n",
            "0.5411       1\n",
            "0.6667       1\n",
            "0.5211       1\n",
            "0.6961       1\n",
            "0.9230       1\n",
            "Name: sentiment:confidence, Length: 635, dtype: int64\n"
          ]
        }
      ]
    },
    {
      "cell_type": "code",
      "source": [
        "plt.figure(figsize=(8, 6)) # sets the size of the chart\n",
        "plt.hist(data['sentiment:confidence'], bins=10, edgecolor='black') # creates a histrogram of the sentiment:confidence column\n",
        "plt.title('Histogram of Sentiment Confidence') # adds a title\n",
        "plt.xlabel('Sentiment Confidence') # labels the x axis\n",
        "plt.ylabel('Frequency') # labels the y axis\n",
        "plt.show() # displays the histogram"
      ],
      "metadata": {
        "colab": {
          "base_uri": "https://localhost:8080/",
          "height": 564
        },
        "id": "m3e9UeUMAzSj",
        "outputId": "ba21db60-231b-4365-b63e-e90ff5857d31"
      },
      "execution_count": null,
      "outputs": [
        {
          "output_type": "display_data",
          "data": {
            "text/plain": [
              "<Figure size 800x600 with 1 Axes>"
            ],
            "image/png": "[encoded data removed]"
          },
          "metadata": {}
        }
      ]
    },
    {
      "cell_type": "markdown",
      "source": [
        "Most sentiments have a high confidence score."
      ],
      "metadata": {
        "id": "xTPY_ms3BShE"
      }
    },
    {
      "cell_type": "code",
      "source": [
        "sns.scatterplot(x='_trusted_judgments', y='sentiment:confidence', data=data) # creates a scatterplot of trusted judgements vs sentiment:confidence\n",
        "plt.title('Correlation between sentiment:confidence and _trusted_judgments') # adds a title\n",
        "plt.show() # displays the plot"
      ],
      "metadata": {
        "colab": {
          "base_uri": "https://localhost:8080/",
          "height": 472
        },
        "id": "mTbbGDDwBRwA",
        "outputId": "0d33bc36-5dd7-4aad-af69-62e65838d519"
      },
      "execution_count": null,
      "outputs": [
        {
          "output_type": "display_data",
          "data": {
            "text/plain": [
              "<Figure size 640x480 with 1 Axes>"
            ],
            "image/png": "[encoded data removed]"
          },
          "metadata": {}
        }
      ]
    },
    {
      "cell_type": "markdown",
      "source": [
        "Looks like a low correlation! This would indicate that confidence can be high even with only a few trusted judgements."
      ],
      "metadata": {
        "id": "p5iKiBnqCJE4"
      }
    },
    {
      "cell_type": "code",
      "source": [
        "sns.scatterplot(x='sentiment', y='sentiment:confidence', data=data) # creates a scatterplot of sentiment vs sentiment:confidence\n",
        "plt.title('Correlation between Sentiment Score and Sentiment Confidence') # adds a title\n",
        "plt.xlabel('Sentiment Score') # labels the x axis\n",
        "plt.ylabel('Sentiment Confidence') # labels the y axis\n",
        "plt.show() # displays the plot"
      ],
      "metadata": {
        "colab": {
          "base_uri": "https://localhost:8080/",
          "height": 472
        },
        "id": "TPCjYy-pAk5O",
        "outputId": "d5f72dcd-c53e-4aca-86ea-b2ec6b99445e"
      },
      "execution_count": null,
      "outputs": [
        {
          "output_type": "display_data",
          "data": {
            "text/plain": [
              "<Figure size 640x480 with 1 Axes>"
            ],
            "image/png": "[encoded data removed]"
          },
          "metadata": {}
        }
      ]
    },
    {
      "cell_type": "code",
      "source": [
        "correlation = data['sentiment:confidence'].corr(data['sentiment']) # calculates the correlation coefficient between sentiment and sentiment:confidence\n",
        "print(\"Correlation coefficient between sentiment:confidence and sentiment score:\", format(correlation, '.2f')) # prints the correlation coefficient"
      ],
      "metadata": {
        "colab": {
          "base_uri": "https://localhost:8080/"
        },
        "id": "5B3cE3jbAkw6",
        "outputId": "f9af781b-d533-4dab-a17d-6097441c4993"
      },
      "execution_count": null,
      "outputs": [
        {
          "output_type": "stream",
          "name": "stdout",
          "text": [
            "Correlation coefficient between sentiment:confidence and sentiment score: -0.13\n"
          ]
        }
      ]
    },
    {
      "cell_type": "markdown",
      "source": [
        "There is no correlation between these two variables."
      ],
      "metadata": {
        "id": "X95yjmEeCek2"
      }
    },
    {
      "cell_type": "code",
      "source": [
        "grouped_confidence = data.groupby('sentiment')['sentiment:confidence'].agg(['mean', 'median', 'min', 'max', 'std']) # groups data by the sentiment column then aggregates data about the sentiment:confidence column\n",
        "print(grouped_confidence) # prints the results"
      ],
      "metadata": {
        "colab": {
          "base_uri": "https://localhost:8080/"
        },
        "id": "jheQJy9lAkjq",
        "outputId": "1a64abf0-12cf-410a-98d4-4128567ede87"
      },
      "execution_count": null,
      "outputs": [
        {
          "output_type": "stream",
          "name": "stdout",
          "text": [
            "               mean  median     min  max       std\n",
            "sentiment                                         \n",
            "1          0.859857  1.0000  0.3339  1.0  0.172081\n",
            "3          0.825813  0.7481  0.3327  1.0  0.173324\n",
            "5          0.788634  0.6971  0.3404  1.0  0.179424\n"
          ]
        }
      ]
    },
    {
      "cell_type": "markdown",
      "source": [
        "the mean and median decrease as the sentiment increases. does this mean that annotators are more confident about negative sentiments than positive sentiments?"
      ],
      "metadata": {
        "id": "XiDzXc6wCcoM"
      }
    },
    {
      "cell_type": "code",
      "source": [
        "column = 'id' # sets the column variable\n",
        "print(f\"Value counts for {column}:\") # prints a string that includes the column name\n",
        "print(data[column].value_counts()) # prints the value counts for the column"
      ],
      "metadata": {
        "colab": {
          "base_uri": "https://localhost:8080/"
        },
        "id": "Bzf4LU8TDkKE",
        "outputId": "5f6172e2-e6d7-43d9-8671-4d418f8f7a39"
      },
      "execution_count": null,
      "outputs": [
        {
          "output_type": "stream",
          "name": "stdout",
          "text": [
            "Value counts for id:\n",
            "5.410000e+17    1407\n",
            "5.420000e+17    1212\n",
            "5.400000e+17    1185\n",
            "Name: id, dtype: int64\n"
          ]
        }
      ]
    },
    {
      "cell_type": "markdown",
      "source": [
        "I'm not sure what this ID refers to."
      ],
      "metadata": {
        "id": "fSSpqidODm_R"
      }
    },
    {
      "cell_type": "code",
      "source": [
        "column = 'query' # sets the column variable\n",
        "print(f\"Value counts for {column}:\") # prints a string that includes the column name\n",
        "print(data[column].value_counts()) # prints the value counts for the column"
      ],
      "metadata": {
        "colab": {
          "base_uri": "https://localhost:8080/"
        },
        "id": "RWLKRHmFxTCG",
        "outputId": "95e755aa-e805-4b15-d98f-b2dbe7f9b69a"
      },
      "execution_count": null,
      "outputs": [
        {
          "output_type": "stream",
          "name": "stdout",
          "text": [
            "Value counts for query:\n",
            "#AAPL OR @Apple    3804\n",
            "Name: query, dtype: int64\n"
          ]
        }
      ]
    },
    {
      "cell_type": "markdown",
      "source": [
        "This is the same for all rows and can be removed."
      ],
      "metadata": {
        "id": "puwedb87CzL-"
      }
    },
    {
      "cell_type": "code",
      "source": [
        "column = 'sentiment_gold' # sets the column variable\n",
        "print(f\"Value counts for {column}:\") # prints a string that includes the column name\n",
        "print(data[column].value_counts()) # prints the value counts for the column"
      ],
      "metadata": {
        "colab": {
          "base_uri": "https://localhost:8080/"
        },
        "id": "cqHmmv8IDvMK",
        "outputId": "53f908fc-7630-4c21-cb83-037fb40c3e8f"
      },
      "execution_count": null,
      "outputs": [
        {
          "output_type": "stream",
          "name": "stdout",
          "text": [
            "Value counts for sentiment_gold:\n",
            "1                     39\n",
            "3                     16\n",
            "5                     12\n",
            "3\\n1                  10\n",
            "3\\nnot_relevant        9\n",
            "5\\n3                   9\n",
            "3\\n1\\nnot_relevant     3\n",
            "5\\n3\\nnot_relevant     3\n",
            "5\\n3\\n1                1\n",
            "Name: sentiment_gold, dtype: int64\n"
          ]
        }
      ]
    },
    {
      "cell_type": "markdown",
      "source": [
        "These values are a combination of the different sentiment scores. Looks like a lot of values are missing."
      ],
      "metadata": {
        "id": "gHKNxhdLDyiC"
      }
    },
    {
      "cell_type": "code",
      "source": [
        "# check if we have missing values\n",
        "for column in data.columns: # loops through all columns in the data\n",
        "  print(\"There are\", data[column].isnull().sum().sum(), \"missing values in the \", column, \" column.\") # looks for missing values and prints the results"
      ],
      "metadata": {
        "colab": {
          "base_uri": "https://localhost:8080/"
        },
        "id": "F7CB9N9oESHQ",
        "outputId": "d7831a4e-805b-45c1-8ff9-9f70f4972749"
      },
      "execution_count": null,
      "outputs": [
        {
          "output_type": "stream",
          "name": "stdout",
          "text": [
            "There are 0 missing values in the  _unit_id  column.\n",
            "There are 0 missing values in the  _golden  column.\n",
            "There are 0 missing values in the  _unit_state  column.\n",
            "There are 0 missing values in the  _trusted_judgments  column.\n",
            "There are 102 missing values in the  _last_judgment_at  column.\n",
            "There are 0 missing values in the  sentiment  column.\n",
            "There are 0 missing values in the  sentiment:confidence  column.\n",
            "There are 0 missing values in the  date  column.\n",
            "There are 0 missing values in the  id  column.\n",
            "There are 0 missing values in the  query  column.\n",
            "There are 3702 missing values in the  sentiment_gold  column.\n",
            "There are 0 missing values in the  text  column.\n"
          ]
        }
      ]
    },
    {
      "cell_type": "markdown",
      "source": [
        "Confirmed! Dropping the sentiment_gold column."
      ],
      "metadata": {
        "id": "cyHopCG1En7n"
      }
    },
    {
      "cell_type": "code",
      "source": [
        "# Check if the rows where sentiment_gold is not missing correspond to _unit_state being 'golden'\n",
        "\n",
        "golden_matches = data.loc[data['sentiment_gold'].notna() & (data['_unit_state'] == 'golden')] # identifies rows where sentiment_gold is not null and unit_state is golden\n",
        "\n",
        "non_missing_gold = data['sentiment_gold'].notna().sum() # identifies rows where sentiment_gold is not null\n",
        "golden_state_count = (data['_unit_state'] == 'golden').sum() # identifies rows where unit state is golden\n",
        "matches_count = len(golden_matches) # gets the number of rows in the golden matches data frame\n",
        "\n",
        "print(f\"Total non-missing sentiment_gold entries: {non_missing_gold}\") # prints out the results of non_missing_gold\n",
        "print(f\"Total golden _unit_state entries: {golden_state_count}\") # prints out the results of golden_state_count\n",
        "print(f\"Entries where both conditions match: {matches_count}\") # prints out the results of matches_count"
      ],
      "metadata": {
        "colab": {
          "base_uri": "https://localhost:8080/"
        },
        "id": "xxXvIFqvEruv",
        "outputId": "e446a0b0-28b9-4744-9038-791b59049b93"
      },
      "execution_count": null,
      "outputs": [
        {
          "output_type": "stream",
          "name": "stdout",
          "text": [
            "Total non-missing sentiment_gold entries: 102\n",
            "Total golden _unit_state entries: 103\n",
            "Entries where both conditions match: 102\n"
          ]
        }
      ]
    },
    {
      "cell_type": "markdown",
      "source": [
        "Based on the data exploration (and prior examples) I'm dropping all columns except sentiment and text. I tried including sentiment confidence in an earlier iteration to see if it improved accuracy but it did not."
      ],
      "metadata": {
        "id": "pFwLUt0cFo5M"
      }
    },
    {
      "cell_type": "code",
      "source": [
        "# Removing the unnecessary columns.\n",
        "data = data[['sentiment','text']]"
      ],
      "metadata": {
        "id": "Ab84lfXr3a6Q"
      },
      "execution_count": null,
      "outputs": []
    },
    {
      "cell_type": "code",
      "source": [
        "data.head(10)"
      ],
      "metadata": {
        "colab": {
          "base_uri": "https://localhost:8080/",
          "height": 363
        },
        "id": "VsByQF1GcEdl",
        "outputId": "73efa35f-e361-47ab-c2f6-9c6701dd27e9"
      },
      "execution_count": null,
      "outputs": [
        {
          "output_type": "execute_result",
          "data": {
            "text/plain": [
              "   sentiment  \\\n",
              "0          3   \n",
              "1          3   \n",
              "2          3   \n",
              "3          3   \n",
              "4          3   \n",
              "5          3   \n",
              "6          5   \n",
              "7          5   \n",
              "8          3   \n",
              "9          3   \n",
              "\n",
              "                                                                                                                                       text  \n",
              "0                                                                         #AAPL:The 10 best Steve Jobs emails ever...http://t.co/82G1kL94tx  \n",
              "1                                           RT @JPDesloges: Why AAPL Stock Had a Mini-Flash Crash Today $AAPL #aapl\\nhttp://t.co/hGFcjYa0E9  \n",
              "2                                                                                       My cat only chews @apple cords. Such an #AppleSnob.  \n",
              "3  I agree with @jimcramer that the #IndividualInvestor should own not trade #Apple #AAPL, it's extended so today's pullback is good to see  \n",
              "4                                                                                              Nobody expects the Spanish Inquisition #AAPL  \n",
              "5                                                  #AAPL:5 Rocket Stocks to Buy for December Gains: Apple and More...http://t.co/eG5XhXdLLS  \n",
              "6                                                                             Top 3 all @Apple #tablets. Damn right! http://t.co/RJiGn2JUuB  \n",
              "7                                                               CNBCTV: #Apple's margins better than expected? #aapl http://t.co/7geVrtOGLK  \n",
              "8                                                                Apple Inc. Flash Crash: What You Need to Know http://t.co/YJIgtifdAj #AAPL  \n",
              "9                                     #AAPL:This Presentation Shows What Makes The World's Biggest Tech Companies ...http://t.co/qlH9PqSoSd  "
            ],
            "text/html": [
              "\n",
              "  <div id=\"df-20d5ba29-dae0-4bb6-ad39-483e26aced13\" class=\"colab-df-container\">\n",
              "    <div>\n",
              "<style scoped>\n",
              "    .dataframe tbody tr th:only-of-type {\n",
              "        vertical-align: middle;\n",
              "    }\n",
              "\n",
              "    .dataframe tbody tr th {\n",
              "        vertical-align: top;\n",
              "    }\n",
              "\n",
              "    .dataframe thead th {\n",
              "        text-align: right;\n",
              "    }\n",
              "</style>\n",
              "<table border=\"1\" class=\"dataframe\">\n",
              "  <thead>\n",
              "    <tr style=\"text-align: right;\">\n",
              "      <th></th>\n",
              "      <th>sentiment</th>\n",
              "      <th>text</th>\n",
              "    </tr>\n",
              "  </thead>\n",
              "  <tbody>\n",
              "    <tr>\n",
              "      <th>0</th>\n",
              "      <td>3</td>\n",
              "      <td>#AAPL:The 10 best Steve Jobs emails ever...http://t.co/82G1kL94tx</td>\n",
              "    </tr>\n",
              "    <tr>\n",
              "      <th>1</th>\n",
              "      <td>3</td>\n",
              "      <td>RT @JPDesloges: Why AAPL Stock Had a Mini-Flash Crash Today $AAPL #aapl\\nhttp://t.co/hGFcjYa0E9</td>\n",
              "    </tr>\n",
              "    <tr>\n",
              "      <th>2</th>\n",
              "      <td>3</td>\n",
              "      <td>My cat only chews @apple cords. Such an #AppleSnob.</td>\n",
              "    </tr>\n",
              "    <tr>\n",
              "      <th>3</th>\n",
              "      <td>3</td>\n",
              "      <td>I agree with @jimcramer that the #IndividualInvestor should own not trade #Apple #AAPL, it's extended so today's pullback is good to see</td>\n",
              "    </tr>\n",
              "    <tr>\n",
              "      <th>4</th>\n",
              "      <td>3</td>\n",
              "      <td>Nobody expects the Spanish Inquisition #AAPL</td>\n",
              "    </tr>\n",
              "    <tr>\n",
              "      <th>5</th>\n",
              "      <td>3</td>\n",
              "      <td>#AAPL:5 Rocket Stocks to Buy for December Gains: Apple and More...http://t.co/eG5XhXdLLS</td>\n",
              "    </tr>\n",
              "    <tr>\n",
              "      <th>6</th>\n",
              "      <td>5</td>\n",
              "      <td>Top 3 all @Apple #tablets. Damn right! http://t.co/RJiGn2JUuB</td>\n",
              "    </tr>\n",
              "    <tr>\n",
              "      <th>7</th>\n",
              "      <td>5</td>\n",
              "      <td>CNBCTV: #Apple's margins better than expected? #aapl http://t.co/7geVrtOGLK</td>\n",
              "    </tr>\n",
              "    <tr>\n",
              "      <th>8</th>\n",
              "      <td>3</td>\n",
              "      <td>Apple Inc. Flash Crash: What You Need to Know http://t.co/YJIgtifdAj #AAPL</td>\n",
              "    </tr>\n",
              "    <tr>\n",
              "      <th>9</th>\n",
              "      <td>3</td>\n",
              "      <td>#AAPL:This Presentation Shows What Makes The World's Biggest Tech Companies ...http://t.co/qlH9PqSoSd</td>\n",
              "    </tr>\n",
              "  </tbody>\n",
              "</table>\n",
              "</div>\n",
              "    <div class=\"colab-df-buttons\">\n",
              "\n",
              "  <div class=\"colab-df-container\">\n",
              "    <button class=\"colab-df-convert\" onclick=\"convertToInteractive('df-20d5ba29-dae0-4bb6-ad39-483e26aced13')\"\n",
              "            title=\"Convert this dataframe to an interactive table.\"\n",
              "            style=\"display:none;\">\n",
              "\n",
              "  <svg xmlns=\"http://www.w3.org/2000/svg\" height=\"24px\" viewBox=\"0 -960 960 960\">\n",
              "    <path d=\"M120-120v-720h720v720H120Zm60-500h600v-160H180v160Zm220 220h160v-160H400v160Zm0 220h160v-160H400v160ZM180-400h160v-160H180v160Zm440 0h160v-160H620v160ZM180-180h160v-160H180v160Zm440 0h160v-160H620v160Z\"/>\n",
              "  </svg>\n",
              "    </button>\n",
              "\n",
              "  <style>\n",
              "    .colab-df-container {\n",
              "      display:flex;\n",
              "      gap: 12px;\n",
              "    }\n",
              "\n",
              "    .colab-df-convert {\n",
              "      background-color: #E8F0FE;\n",
              "      border: none;\n",
              "      border-radius: 50%;\n",
              "      cursor: pointer;\n",
              "      display: none;\n",
              "      fill: #1967D2;\n",
              "      height: 32px;\n",
              "      padding: 0 0 0 0;\n",
              "      width: 32px;\n",
              "    }\n",
              "\n",
              "    .colab-df-convert:hover {\n",
              "      background-color: #E2EBFA;\n",
              "      box-shadow: 0px 1px 2px rgba(60, 64, 67, 0.3), 0px 1px 3px 1px rgba(60, 64, 67, 0.15);\n",
              "      fill: #174EA6;\n",
              "    }\n",
              "\n",
              "    .colab-df-buttons div {\n",
              "      margin-bottom: 4px;\n",
              "    }\n",
              "\n",
              "    [theme=dark] .colab-df-convert {\n",
              "      background-color: #3B4455;\n",
              "      fill: #D2E3FC;\n",
              "    }\n",
              "\n",
              "    [theme=dark] .colab-df-convert:hover {\n",
              "      background-color: #434B5C;\n",
              "      box-shadow: 0px 1px 3px 1px rgba(0, 0, 0, 0.15);\n",
              "      filter: drop-shadow(0px 1px 2px rgba(0, 0, 0, 0.3));\n",
              "      fill: #FFFFFF;\n",
              "    }\n",
              "  </style>\n",
              "\n",
              "    <script>\n",
              "      const buttonEl =\n",
              "        document.querySelector('#df-20d5ba29-dae0-4bb6-ad39-483e26aced13 button.colab-df-convert');\n",
              "      buttonEl.style.display =\n",
              "        google.colab.kernel.accessAllowed ? 'block' : 'none';\n",
              "\n",
              "      async function convertToInteractive(key) {\n",
              "        const element = document.querySelector('#df-20d5ba29-dae0-4bb6-ad39-483e26aced13');\n",
              "        const dataTable =\n",
              "          await google.colab.kernel.invokeFunction('convertToInteractive',\n",
              "                                                    [key], {});\n",
              "        if (!dataTable) return;\n",
              "\n",
              "        const docLinkHtml = 'Like what you see? Visit the ' +\n",
              "          '<a target=\"_blank\" href=https://colab.research.google.com/notebooks/data_table.ipynb>data table notebook</a>'\n",
              "          + ' to learn more about interactive tables.';\n",
              "        element.innerHTML = '';\n",
              "        dataTable['output_type'] = 'display_data';\n",
              "        await google.colab.output.renderOutput(dataTable, element);\n",
              "        const docLink = document.createElement('div');\n",
              "        docLink.innerHTML = docLinkHtml;\n",
              "        element.appendChild(docLink);\n",
              "      }\n",
              "    </script>\n",
              "  </div>\n",
              "\n",
              "\n",
              "<div id=\"df-b50cb495-d96c-4eb1-8f53-8a8b7aa451b5\">\n",
              "  <button class=\"colab-df-quickchart\" onclick=\"quickchart('df-b50cb495-d96c-4eb1-8f53-8a8b7aa451b5')\"\n",
              "            title=\"Suggest charts\"\n",
              "            style=\"display:none;\">\n",
              "\n",
              "<svg xmlns=\"http://www.w3.org/2000/svg\" height=\"24px\"viewBox=\"0 0 24 24\"\n",
              "     width=\"24px\">\n",
              "    <g>\n",
              "        <path d=\"M19 3H5c-1.1 0-2 .9-2 2v14c0 1.1.9 2 2 2h14c1.1 0 2-.9 2-2V5c0-1.1-.9-2-2-2zM9 17H7v-7h2v7zm4 0h-2V7h2v10zm4 0h-2v-4h2v4z\"/>\n",
              "    </g>\n",
              "</svg>\n",
              "  </button>\n",
              "\n",
              "<style>\n",
              "  .colab-df-quickchart {\n",
              "      --bg-color: #E8F0FE;\n",
              "      --fill-color: #1967D2;\n",
              "      --hover-bg-color: #E2EBFA;\n",
              "      --hover-fill-color: #174EA6;\n",
              "      --disabled-fill-color: #AAA;\n",
              "      --disabled-bg-color: #DDD;\n",
              "  }\n",
              "\n",
              "  [theme=dark] .colab-df-quickchart {\n",
              "      --bg-color: #3B4455;\n",
              "      --fill-color: #D2E3FC;\n",
              "      --hover-bg-color: #434B5C;\n",
              "      --hover-fill-color: #FFFFFF;\n",
              "      --disabled-bg-color: #3B4455;\n",
              "      --disabled-fill-color: #666;\n",
              "  }\n",
              "\n",
              "  .colab-df-quickchart {\n",
              "    background-color: var(--bg-color);\n",
              "    border: none;\n",
              "    border-radius: 50%;\n",
              "    cursor: pointer;\n",
              "    display: none;\n",
              "    fill: var(--fill-color);\n",
              "    height: 32px;\n",
              "    padding: 0;\n",
              "    width: 32px;\n",
              "  }\n",
              "\n",
              "  .colab-df-quickchart:hover {\n",
              "    background-color: var(--hover-bg-color);\n",
              "    box-shadow: 0 1px 2px rgba(60, 64, 67, 0.3), 0 1px 3px 1px rgba(60, 64, 67, 0.15);\n",
              "    fill: var(--button-hover-fill-color);\n",
              "  }\n",
              "\n",
              "  .colab-df-quickchart-complete:disabled,\n",
              "  .colab-df-quickchart-complete:disabled:hover {\n",
              "    background-color: var(--disabled-bg-color);\n",
              "    fill: var(--disabled-fill-color);\n",
              "    box-shadow: none;\n",
              "  }\n",
              "\n",
              "  .colab-df-spinner {\n",
              "    border: 2px solid var(--fill-color);\n",
              "    border-color: transparent;\n",
              "    border-bottom-color: var(--fill-color);\n",
              "    animation:\n",
              "      spin 1s steps(1) infinite;\n",
              "  }\n",
              "\n",
              "  @keyframes spin {\n",
              "    0% {\n",
              "      border-color: transparent;\n",
              "      border-bottom-color: var(--fill-color);\n",
              "      border-left-color: var(--fill-color);\n",
              "    }\n",
              "    20% {\n",
              "      border-color: transparent;\n",
              "      border-left-color: var(--fill-color);\n",
              "      border-top-color: var(--fill-color);\n",
              "    }\n",
              "    30% {\n",
              "      border-color: transparent;\n",
              "      border-left-color: var(--fill-color);\n",
              "      border-top-color: var(--fill-color);\n",
              "      border-right-color: var(--fill-color);\n",
              "    }\n",
              "    40% {\n",
              "      border-color: transparent;\n",
              "      border-right-color: var(--fill-color);\n",
              "      border-top-color: var(--fill-color);\n",
              "    }\n",
              "    60% {\n",
              "      border-color: transparent;\n",
              "      border-right-color: var(--fill-color);\n",
              "    }\n",
              "    80% {\n",
              "      border-color: transparent;\n",
              "      border-right-color: var(--fill-color);\n",
              "      border-bottom-color: var(--fill-color);\n",
              "    }\n",
              "    90% {\n",
              "      border-color: transparent;\n",
              "      border-bottom-color: var(--fill-color);\n",
              "    }\n",
              "  }\n",
              "</style>\n",
              "\n",
              "  <script>\n",
              "    async function quickchart(key) {\n",
              "      const quickchartButtonEl =\n",
              "        document.querySelector('#' + key + ' button');\n",
              "      quickchartButtonEl.disabled = true;  // To prevent multiple clicks.\n",
              "      quickchartButtonEl.classList.add('colab-df-spinner');\n",
              "      try {\n",
              "        const charts = await google.colab.kernel.invokeFunction(\n",
              "            'suggestCharts', [key], {});\n",
              "      } catch (error) {\n",
              "        console.error('Error during call to suggestCharts:', error);\n",
              "      }\n",
              "      quickchartButtonEl.classList.remove('colab-df-spinner');\n",
              "      quickchartButtonEl.classList.add('colab-df-quickchart-complete');\n",
              "    }\n",
              "    (() => {\n",
              "      let quickchartButtonEl =\n",
              "        document.querySelector('#df-b50cb495-d96c-4eb1-8f53-8a8b7aa451b5 button');\n",
              "      quickchartButtonEl.style.display =\n",
              "        google.colab.kernel.accessAllowed ? 'block' : 'none';\n",
              "    })();\n",
              "  </script>\n",
              "</div>\n",
              "\n",
              "    </div>\n",
              "  </div>\n"
            ]
          },
          "metadata": {},
          "execution_count": 207
        }
      ]
    },
    {
      "cell_type": "code",
      "source": [
        "# create new column called sentiment and store as positive for sentiment over 3 and negative for the rest\n",
        "data['sentiment'] = data['sentiment'].apply(lambda x: \"Positive\" if (x >= 3) else \"Negative\")\n",
        "data.head(10)"
      ],
      "metadata": {
        "colab": {
          "base_uri": "https://localhost:8080/",
          "height": 363
        },
        "id": "WfKDImLoOiAy",
        "outputId": "b748d3d5-6ada-48b9-81f0-23c1a333f5dd"
      },
      "execution_count": null,
      "outputs": [
        {
          "output_type": "execute_result",
          "data": {
            "text/plain": [
              "  sentiment  \\\n",
              "0  Positive   \n",
              "1  Positive   \n",
              "2  Positive   \n",
              "3  Positive   \n",
              "4  Positive   \n",
              "5  Positive   \n",
              "6  Positive   \n",
              "7  Positive   \n",
              "8  Positive   \n",
              "9  Positive   \n",
              "\n",
              "                                                                                                                                       text  \n",
              "0                                                                         #AAPL:The 10 best Steve Jobs emails ever...http://t.co/82G1kL94tx  \n",
              "1                                           RT @JPDesloges: Why AAPL Stock Had a Mini-Flash Crash Today $AAPL #aapl\\nhttp://t.co/hGFcjYa0E9  \n",
              "2                                                                                       My cat only chews @apple cords. Such an #AppleSnob.  \n",
              "3  I agree with @jimcramer that the #IndividualInvestor should own not trade #Apple #AAPL, it's extended so today's pullback is good to see  \n",
              "4                                                                                              Nobody expects the Spanish Inquisition #AAPL  \n",
              "5                                                  #AAPL:5 Rocket Stocks to Buy for December Gains: Apple and More...http://t.co/eG5XhXdLLS  \n",
              "6                                                                             Top 3 all @Apple #tablets. Damn right! http://t.co/RJiGn2JUuB  \n",
              "7                                                               CNBCTV: #Apple's margins better than expected? #aapl http://t.co/7geVrtOGLK  \n",
              "8                                                                Apple Inc. Flash Crash: What You Need to Know http://t.co/YJIgtifdAj #AAPL  \n",
              "9                                     #AAPL:This Presentation Shows What Makes The World's Biggest Tech Companies ...http://t.co/qlH9PqSoSd  "
            ],
            "text/html": [
              "\n",
              "  <div id=\"df-d737c6dd-4d5e-4674-bafe-4789a1921d66\" class=\"colab-df-container\">\n",
              "    <div>\n",
              "<style scoped>\n",
              "    .dataframe tbody tr th:only-of-type {\n",
              "        vertical-align: middle;\n",
              "    }\n",
              "\n",
              "    .dataframe tbody tr th {\n",
              "        vertical-align: top;\n",
              "    }\n",
              "\n",
              "    .dataframe thead th {\n",
              "        text-align: right;\n",
              "    }\n",
              "</style>\n",
              "<table border=\"1\" class=\"dataframe\">\n",
              "  <thead>\n",
              "    <tr style=\"text-align: right;\">\n",
              "      <th></th>\n",
              "      <th>sentiment</th>\n",
              "      <th>text</th>\n",
              "    </tr>\n",
              "  </thead>\n",
              "  <tbody>\n",
              "    <tr>\n",
              "      <th>0</th>\n",
              "      <td>Positive</td>\n",
              "      <td>#AAPL:The 10 best Steve Jobs emails ever...http://t.co/82G1kL94tx</td>\n",
              "    </tr>\n",
              "    <tr>\n",
              "      <th>1</th>\n",
              "      <td>Positive</td>\n",
              "      <td>RT @JPDesloges: Why AAPL Stock Had a Mini-Flash Crash Today $AAPL #aapl\\nhttp://t.co/hGFcjYa0E9</td>\n",
              "    </tr>\n",
              "    <tr>\n",
              "      <th>2</th>\n",
              "      <td>Positive</td>\n",
              "      <td>My cat only chews @apple cords. Such an #AppleSnob.</td>\n",
              "    </tr>\n",
              "    <tr>\n",
              "      <th>3</th>\n",
              "      <td>Positive</td>\n",
              "      <td>I agree with @jimcramer that the #IndividualInvestor should own not trade #Apple #AAPL, it's extended so today's pullback is good to see</td>\n",
              "    </tr>\n",
              "    <tr>\n",
              "      <th>4</th>\n",
              "      <td>Positive</td>\n",
              "      <td>Nobody expects the Spanish Inquisition #AAPL</td>\n",
              "    </tr>\n",
              "    <tr>\n",
              "      <th>5</th>\n",
              "      <td>Positive</td>\n",
              "      <td>#AAPL:5 Rocket Stocks to Buy for December Gains: Apple and More...http://t.co/eG5XhXdLLS</td>\n",
              "    </tr>\n",
              "    <tr>\n",
              "      <th>6</th>\n",
              "      <td>Positive</td>\n",
              "      <td>Top 3 all @Apple #tablets. Damn right! http://t.co/RJiGn2JUuB</td>\n",
              "    </tr>\n",
              "    <tr>\n",
              "      <th>7</th>\n",
              "      <td>Positive</td>\n",
              "      <td>CNBCTV: #Apple's margins better than expected? #aapl http://t.co/7geVrtOGLK</td>\n",
              "    </tr>\n",
              "    <tr>\n",
              "      <th>8</th>\n",
              "      <td>Positive</td>\n",
              "      <td>Apple Inc. Flash Crash: What You Need to Know http://t.co/YJIgtifdAj #AAPL</td>\n",
              "    </tr>\n",
              "    <tr>\n",
              "      <th>9</th>\n",
              "      <td>Positive</td>\n",
              "      <td>#AAPL:This Presentation Shows What Makes The World's Biggest Tech Companies ...http://t.co/qlH9PqSoSd</td>\n",
              "    </tr>\n",
              "  </tbody>\n",
              "</table>\n",
              "</div>\n",
              "    <div class=\"colab-df-buttons\">\n",
              "\n",
              "  <div class=\"colab-df-container\">\n",
              "    <button class=\"colab-df-convert\" onclick=\"convertToInteractive('df-d737c6dd-4d5e-4674-bafe-4789a1921d66')\"\n",
              "            title=\"Convert this dataframe to an interactive table.\"\n",
              "            style=\"display:none;\">\n",
              "\n",
              "  <svg xmlns=\"http://www.w3.org/2000/svg\" height=\"24px\" viewBox=\"0 -960 960 960\">\n",
              "    <path d=\"M120-120v-720h720v720H120Zm60-500h600v-160H180v160Zm220 220h160v-160H400v160Zm0 220h160v-160H400v160ZM180-400h160v-160H180v160Zm440 0h160v-160H620v160ZM180-180h160v-160H180v160Zm440 0h160v-160H620v160Z\"/>\n",
              "  </svg>\n",
              "    </button>\n",
              "\n",
              "  <style>\n",
              "    .colab-df-container {\n",
              "      display:flex;\n",
              "      gap: 12px;\n",
              "    }\n",
              "\n",
              "    .colab-df-convert {\n",
              "      background-color: #E8F0FE;\n",
              "      border: none;\n",
              "      border-radius: 50%;\n",
              "      cursor: pointer;\n",
              "      display: none;\n",
              "      fill: #1967D2;\n",
              "      height: 32px;\n",
              "      padding: 0 0 0 0;\n",
              "      width: 32px;\n",
              "    }\n",
              "\n",
              "    .colab-df-convert:hover {\n",
              "      background-color: #E2EBFA;\n",
              "      box-shadow: 0px 1px 2px rgba(60, 64, 67, 0.3), 0px 1px 3px 1px rgba(60, 64, 67, 0.15);\n",
              "      fill: #174EA6;\n",
              "    }\n",
              "\n",
              "    .colab-df-buttons div {\n",
              "      margin-bottom: 4px;\n",
              "    }\n",
              "\n",
              "    [theme=dark] .colab-df-convert {\n",
              "      background-color: #3B4455;\n",
              "      fill: #D2E3FC;\n",
              "    }\n",
              "\n",
              "    [theme=dark] .colab-df-convert:hover {\n",
              "      background-color: #434B5C;\n",
              "      box-shadow: 0px 1px 3px 1px rgba(0, 0, 0, 0.15);\n",
              "      filter: drop-shadow(0px 1px 2px rgba(0, 0, 0, 0.3));\n",
              "      fill: #FFFFFF;\n",
              "    }\n",
              "  </style>\n",
              "\n",
              "    <script>\n",
              "      const buttonEl =\n",
              "        document.querySelector('#df-d737c6dd-4d5e-4674-bafe-4789a1921d66 button.colab-df-convert');\n",
              "      buttonEl.style.display =\n",
              "        google.colab.kernel.accessAllowed ? 'block' : 'none';\n",
              "\n",
              "      async function convertToInteractive(key) {\n",
              "        const element = document.querySelector('#df-d737c6dd-4d5e-4674-bafe-4789a1921d66');\n",
              "        const dataTable =\n",
              "          await google.colab.kernel.invokeFunction('convertToInteractive',\n",
              "                                                    [key], {});\n",
              "        if (!dataTable) return;\n",
              "\n",
              "        const docLinkHtml = 'Like what you see? Visit the ' +\n",
              "          '<a target=\"_blank\" href=https://colab.research.google.com/notebooks/data_table.ipynb>data table notebook</a>'\n",
              "          + ' to learn more about interactive tables.';\n",
              "        element.innerHTML = '';\n",
              "        dataTable['output_type'] = 'display_data';\n",
              "        await google.colab.output.renderOutput(dataTable, element);\n",
              "        const docLink = document.createElement('div');\n",
              "        docLink.innerHTML = docLinkHtml;\n",
              "        element.appendChild(docLink);\n",
              "      }\n",
              "    </script>\n",
              "  </div>\n",
              "\n",
              "\n",
              "<div id=\"df-e1121799-7b23-45c8-baa9-aa0503547c2f\">\n",
              "  <button class=\"colab-df-quickchart\" onclick=\"quickchart('df-e1121799-7b23-45c8-baa9-aa0503547c2f')\"\n",
              "            title=\"Suggest charts\"\n",
              "            style=\"display:none;\">\n",
              "\n",
              "<svg xmlns=\"http://www.w3.org/2000/svg\" height=\"24px\"viewBox=\"0 0 24 24\"\n",
              "     width=\"24px\">\n",
              "    <g>\n",
              "        <path d=\"M19 3H5c-1.1 0-2 .9-2 2v14c0 1.1.9 2 2 2h14c1.1 0 2-.9 2-2V5c0-1.1-.9-2-2-2zM9 17H7v-7h2v7zm4 0h-2V7h2v10zm4 0h-2v-4h2v4z\"/>\n",
              "    </g>\n",
              "</svg>\n",
              "  </button>\n",
              "\n",
              "<style>\n",
              "  .colab-df-quickchart {\n",
              "      --bg-color: #E8F0FE;\n",
              "      --fill-color: #1967D2;\n",
              "      --hover-bg-color: #E2EBFA;\n",
              "      --hover-fill-color: #174EA6;\n",
              "      --disabled-fill-color: #AAA;\n",
              "      --disabled-bg-color: #DDD;\n",
              "  }\n",
              "\n",
              "  [theme=dark] .colab-df-quickchart {\n",
              "      --bg-color: #3B4455;\n",
              "      --fill-color: #D2E3FC;\n",
              "      --hover-bg-color: #434B5C;\n",
              "      --hover-fill-color: #FFFFFF;\n",
              "      --disabled-bg-color: #3B4455;\n",
              "      --disabled-fill-color: #666;\n",
              "  }\n",
              "\n",
              "  .colab-df-quickchart {\n",
              "    background-color: var(--bg-color);\n",
              "    border: none;\n",
              "    border-radius: 50%;\n",
              "    cursor: pointer;\n",
              "    display: none;\n",
              "    fill: var(--fill-color);\n",
              "    height: 32px;\n",
              "    padding: 0;\n",
              "    width: 32px;\n",
              "  }\n",
              "\n",
              "  .colab-df-quickchart:hover {\n",
              "    background-color: var(--hover-bg-color);\n",
              "    box-shadow: 0 1px 2px rgba(60, 64, 67, 0.3), 0 1px 3px 1px rgba(60, 64, 67, 0.15);\n",
              "    fill: var(--button-hover-fill-color);\n",
              "  }\n",
              "\n",
              "  .colab-df-quickchart-complete:disabled,\n",
              "  .colab-df-quickchart-complete:disabled:hover {\n",
              "    background-color: var(--disabled-bg-color);\n",
              "    fill: var(--disabled-fill-color);\n",
              "    box-shadow: none;\n",
              "  }\n",
              "\n",
              "  .colab-df-spinner {\n",
              "    border: 2px solid var(--fill-color);\n",
              "    border-color: transparent;\n",
              "    border-bottom-color: var(--fill-color);\n",
              "    animation:\n",
              "      spin 1s steps(1) infinite;\n",
              "  }\n",
              "\n",
              "  @keyframes spin {\n",
              "    0% {\n",
              "      border-color: transparent;\n",
              "      border-bottom-color: var(--fill-color);\n",
              "      border-left-color: var(--fill-color);\n",
              "    }\n",
              "    20% {\n",
              "      border-color: transparent;\n",
              "      border-left-color: var(--fill-color);\n",
              "      border-top-color: var(--fill-color);\n",
              "    }\n",
              "    30% {\n",
              "      border-color: transparent;\n",
              "      border-left-color: var(--fill-color);\n",
              "      border-top-color: var(--fill-color);\n",
              "      border-right-color: var(--fill-color);\n",
              "    }\n",
              "    40% {\n",
              "      border-color: transparent;\n",
              "      border-right-color: var(--fill-color);\n",
              "      border-top-color: var(--fill-color);\n",
              "    }\n",
              "    60% {\n",
              "      border-color: transparent;\n",
              "      border-right-color: var(--fill-color);\n",
              "    }\n",
              "    80% {\n",
              "      border-color: transparent;\n",
              "      border-right-color: var(--fill-color);\n",
              "      border-bottom-color: var(--fill-color);\n",
              "    }\n",
              "    90% {\n",
              "      border-color: transparent;\n",
              "      border-bottom-color: var(--fill-color);\n",
              "    }\n",
              "  }\n",
              "</style>\n",
              "\n",
              "  <script>\n",
              "    async function quickchart(key) {\n",
              "      const quickchartButtonEl =\n",
              "        document.querySelector('#' + key + ' button');\n",
              "      quickchartButtonEl.disabled = true;  // To prevent multiple clicks.\n",
              "      quickchartButtonEl.classList.add('colab-df-spinner');\n",
              "      try {\n",
              "        const charts = await google.colab.kernel.invokeFunction(\n",
              "            'suggestCharts', [key], {});\n",
              "      } catch (error) {\n",
              "        console.error('Error during call to suggestCharts:', error);\n",
              "      }\n",
              "      quickchartButtonEl.classList.remove('colab-df-spinner');\n",
              "      quickchartButtonEl.classList.add('colab-df-quickchart-complete');\n",
              "    }\n",
              "    (() => {\n",
              "      let quickchartButtonEl =\n",
              "        document.querySelector('#df-e1121799-7b23-45c8-baa9-aa0503547c2f button');\n",
              "      quickchartButtonEl.style.display =\n",
              "        google.colab.kernel.accessAllowed ? 'block' : 'none';\n",
              "    })();\n",
              "  </script>\n",
              "</div>\n",
              "\n",
              "    </div>\n",
              "  </div>\n"
            ]
          },
          "metadata": {},
          "execution_count": 208
        }
      ]
    },
    {
      "cell_type": "code",
      "source": [
        "# Stores the data into lists\n",
        "text, sentiment = list(data['text']), list(data['sentiment']) # Assigns lists of 'text' and 'sentiment' column values to text and sentiment variables, respectively."
      ],
      "metadata": {
        "id": "9Z0MkLP33a03"
      },
      "execution_count": null,
      "outputs": []
    },
    {
      "cell_type": "code",
      "source": [
        "# Defines a dictionary containing all emojis with their meanings\n",
        "emojis = {':)': 'smile', ':-)': 'smile', ';d': 'wink', ':-E': 'vampire', ':(': 'sad',\n",
        "          ':-(': 'sad', ':-<': 'sad', ':P': 'raspberry', ':O': 'surprised',\n",
        "          ':-@': 'shocked', ':@': 'shocked',':-$': 'confused', ':\\\\': 'annoyed',\n",
        "          ':#': 'mute', ':X': 'mute', ':^)': 'smile', ':-&': 'confused', '$_$': 'greedy',\n",
        "          '@@': 'eyeroll', ':-!': 'confused', ':-D': 'smile', ':-0': 'yell', 'O.o': 'confused',\n",
        "          '<(-_-)>': 'robot', 'd[-_-]b': 'dj', \":'-)\": 'sadsmile', ';)': 'wink',\n",
        "          ';-)': 'wink', 'O:-)': 'angel','O*-)': 'angel','(:-D': 'gossip', '=^.^=': 'cat'}"
      ],
      "metadata": {
        "id": "Pi9hWH553at2"
      },
      "execution_count": null,
      "outputs": []
    },
    {
      "cell_type": "code",
      "source": [
        "## Defines a set containing all stopwords in english\n",
        "stopwords = ['a', 'about', 'above', 'after', 'again', 'ain', 'all', 'am', 'an',\n",
        "             'and','any','are', 'as', 'at', 'be', 'because', 'been', 'before',\n",
        "             'being', 'below', 'between','both', 'by', 'can', 'd', 'did', 'do',\n",
        "             'does', 'doing', 'down', 'during', 'each','few', 'for', 'from',\n",
        "             'further', 'had', 'has', 'have', 'having', 'he', 'her', 'here',\n",
        "             'hers', 'herself', 'him', 'himself', 'his', 'how', 'i', 'if', 'in',\n",
        "             'into','is', 'it', 'its', 'itself', 'just', 'll', 'm', 'ma',\n",
        "             'me', 'more', 'most','my', 'myself', 'now', 'o', 'of', 'on', 'once',\n",
        "             'only', 'or', 'other', 'our', 'ours','ourselves', 'out', 'own', 're',\n",
        "             's', 'same', 'she', \"shes\", 'should', \"shouldve\",'so', 'some', 'such',\n",
        "             't', 'than', 'that', \"thatll\", 'the', 'their', 'theirs', 'them',\n",
        "             'themselves', 'then', 'there', 'these', 'they', 'this', 'those',\n",
        "             'through', 'to', 'too','under', 'until', 'up', 've', 'very', 'was',\n",
        "             'we', 'were', 'what', 'when', 'where','which','while', 'who', 'whom',\n",
        "             'why', 'will', 'with', 'won', 'y', 'you', \"youd\",\"youll\", \"youre\",\n",
        "             \"youve\", 'your', 'yours', 'yourself', 'yourselves']"
      ],
      "metadata": {
        "id": "B4Z6-3Xo3aro"
      },
      "execution_count": null,
      "outputs": []
    },
    {
      "cell_type": "code",
      "source": [
        "# groups together the inflected forms (\"better\" -> \"good\")\n",
        "lemmatizer = WordNetLemmatizer() # Creates an instance of the WordNetLemmatizer class from NLTK and assigns it to the variable lemmatizer. This object can be used to lemmatize words in text processing, converting them to their base or dictionary form."
      ],
      "metadata": {
        "id": "n4sq1w9o3apT"
      },
      "execution_count": null,
      "outputs": []
    },
    {
      "cell_type": "code",
      "source": [
        "def preprocess(textdata): # defines the preprocess function with input variable textdata\n",
        "    processed_texts = [] # Initializes an empty list named processed_texts\n",
        "\n",
        "    # Defining regex patterns.\n",
        "    url_pattern = r\"((http://)[^ ]*|(https://)[^ ]*|( www\\.)[^ ]*)\" # defines a regex pattern for URLs\n",
        "    user_pattern = '@[^\\s]+' # defines a regex pattern for user names\n",
        "    alpha_pattern = \"[^a-zA-Z0-9]\" # defines a regex pattern for non-alphanumeric characters\n",
        "    sequence_pattern = r\"(.)\\1\\1+\" # defines a regex pattern for recurring characters\n",
        "    seq_replace_pattern = r\"\\1\\1\" # defines a regex pattern for replacing matched sequences with just two occurences of the matched character\n",
        "\n",
        "    for tweet in textdata: # initialize a for loop that loops through all tweets in the text list\n",
        "        tweet = tweet.lower() # converts the current tweet to lowercase\n",
        "        tweet = re.sub(url_pattern, ' URL', tweet) # Replace all URls with 'URL'\n",
        "\n",
        "        # Replace all emojis.\n",
        "        for emoji in emojis.keys(): # initialize a for loop that loops through all emojis in the emojis dictionary\n",
        "            tweet = tweet.replace(emoji, \"EMOJI\" + emojis[emoji]) # replaces any emojis with EMOJI + the corresponding text label\n",
        "        tweet = re.sub(user_pattern, ' USER', tweet) # Replace @USERNAME to 'USER'\n",
        "        tweet = re.sub(alpha_pattern, \" \", tweet) # Replace all non alphabets.\n",
        "        tweet = re.sub(sequence_pattern, seq_replace_pattern, tweet) # Replace 3 or more consecutive letters by 2 letter.\n",
        "\n",
        "        preprocessed_words = [] # Initializes an empty list named preprocessed_words\n",
        "        for word in tweet.split(): # initializes a for loop that loops through each word in the tweet\n",
        "            if len(word) > 1 and word not in stopwords: # Check if the word is bigger than one character and not in the stopword dictionary.\n",
        "                word = lemmatizer.lemmatize(word) # Lemmatizing the word\n",
        "                preprocessed_words.append(word) # adds the lemmatized word to the preprocessed_words list\n",
        "\n",
        "        processed_texts.append(' '.join(preprocessed_words)) # creates a new string with the list of preprocessed words separated by a space\n",
        "\n",
        "    return processed_texts # returns the processed_texts string"
      ],
      "metadata": {
        "id": "8MJayC2O3amr"
      },
      "execution_count": null,
      "outputs": []
    },
    {
      "cell_type": "code",
      "source": [
        "processedtext = preprocess(text) # calls the preprocess function for the text list"
      ],
      "metadata": {
        "id": "cbJVuGmk3akW"
      },
      "execution_count": null,
      "outputs": []
    },
    {
      "cell_type": "code",
      "source": [
        "X_train, X_test, y_train, y_test = train_test_split(processedtext, sentiment, test_size = 0.2, random_state = 0) # splits processedtext and sentiment into training and test sets, using 20% of the data for testing"
      ],
      "metadata": {
        "id": "971Q8L4q8JYV"
      },
      "execution_count": null,
      "outputs": []
    },
    {
      "cell_type": "code",
      "source": [
        "vectorizer = TfidfVectorizer(ngram_range=(1,2), max_features = 500000) # initializes TfidVectorizer, ngram_range means it considers single words and pairs of words, max_features limits the number of features to 500,000"
      ],
      "metadata": {
        "id": "7SGb6iwe8JPq"
      },
      "execution_count": null,
      "outputs": []
    },
    {
      "cell_type": "code",
      "source": [
        "vectorizer.fit(X_train) #fits the vectorizer to the x_train data"
      ],
      "metadata": {
        "colab": {
          "base_uri": "https://localhost:8080/",
          "height": 74
        },
        "id": "odlEmp-d8f3U",
        "outputId": "5a8b20ac-5f2c-4ee9-d7c5-ed2b2d7d8c9e"
      },
      "execution_count": null,
      "outputs": [
        {
          "output_type": "execute_result",
          "data": {
            "text/plain": [
              "TfidfVectorizer(max_features=500000, ngram_range=(1, 2))"
            ],
            "text/html": [
              "<style>#sk-container-id-3 {color: black;background-color: white;}#sk-container-id-3 pre{padding: 0;}#sk-container-id-3 div.sk-toggleable {background-color: white;}#sk-container-id-3 label.sk-toggleable__label {cursor: pointer;display: block;width: 100%;margin-bottom: 0;padding: 0.3em;box-sizing: border-box;text-align: center;}#sk-container-id-3 label.sk-toggleable__label-arrow:before {content: \"▸\";float: left;margin-right: 0.25em;color: #696969;}#sk-container-id-3 label.sk-toggleable__label-arrow:hover:before {color: black;}#sk-container-id-3 div.sk-estimator:hover label.sk-toggleable__label-arrow:before {color: black;}#sk-container-id-3 div.sk-toggleable__content {max-height: 0;max-width: 0;overflow: hidden;text-align: left;background-color: #f0f8ff;}#sk-container-id-3 div.sk-toggleable__content pre {margin: 0.2em;color: black;border-radius: 0.25em;background-color: #f0f8ff;}#sk-container-id-3 input.sk-toggleable__control:checked~div.sk-toggleable__content {max-height: 200px;max-width: 100%;overflow: auto;}#sk-container-id-3 input.sk-toggleable__control:checked~label.sk-toggleable__label-arrow:before {content: \"▾\";}#sk-container-id-3 div.sk-estimator input.sk-toggleable__control:checked~label.sk-toggleable__label {background-color: #d4ebff;}#sk-container-id-3 div.sk-label input.sk-toggleable__control:checked~label.sk-toggleable__label {background-color: #d4ebff;}#sk-container-id-3 input.sk-hidden--visually {border: 0;clip: rect(1px 1px 1px 1px);clip: rect(1px, 1px, 1px, 1px);height: 1px;margin: -1px;overflow: hidden;padding: 0;position: absolute;width: 1px;}#sk-container-id-3 div.sk-estimator {font-family: monospace;background-color: #f0f8ff;border: 1px dotted black;border-radius: 0.25em;box-sizing: border-box;margin-bottom: 0.5em;}#sk-container-id-3 div.sk-estimator:hover {background-color: #d4ebff;}#sk-container-id-3 div.sk-parallel-item::after {content: \"\";width: 100%;border-bottom: 1px solid gray;flex-grow: 1;}#sk-container-id-3 div.sk-label:hover label.sk-toggleable__label {background-color: #d4ebff;}#sk-container-id-3 div.sk-serial::before {content: \"\";position: absolute;border-left: 1px solid gray;box-sizing: border-box;top: 0;bottom: 0;left: 50%;z-index: 0;}#sk-container-id-3 div.sk-serial {display: flex;flex-direction: column;align-items: center;background-color: white;padding-right: 0.2em;padding-left: 0.2em;position: relative;}#sk-container-id-3 div.sk-item {position: relative;z-index: 1;}#sk-container-id-3 div.sk-parallel {display: flex;align-items: stretch;justify-content: center;background-color: white;position: relative;}#sk-container-id-3 div.sk-item::before, #sk-container-id-3 div.sk-parallel-item::before {content: \"\";position: absolute;border-left: 1px solid gray;box-sizing: border-box;top: 0;bottom: 0;left: 50%;z-index: -1;}#sk-container-id-3 div.sk-parallel-item {display: flex;flex-direction: column;z-index: 1;position: relative;background-color: white;}#sk-container-id-3 div.sk-parallel-item:first-child::after {align-self: flex-end;width: 50%;}#sk-container-id-3 div.sk-parallel-item:last-child::after {align-self: flex-start;width: 50%;}#sk-container-id-3 div.sk-parallel-item:only-child::after {width: 0;}#sk-container-id-3 div.sk-dashed-wrapped {border: 1px dashed gray;margin: 0 0.4em 0.5em 0.4em;box-sizing: border-box;padding-bottom: 0.4em;background-color: white;}#sk-container-id-3 div.sk-label label {font-family: monospace;font-weight: bold;display: inline-block;line-height: 1.2em;}#sk-container-id-3 div.sk-label-container {text-align: center;}#sk-container-id-3 div.sk-container {/* jupyter's `normalize.less` sets `[hidden] { display: none; }` but bootstrap.min.css set `[hidden] { display: none !important; }` so we also need the `!important` here to be able to override the default hidden behavior on the sphinx rendered scikit-learn.org. See: https://github.com/scikit-learn/scikit-learn/issues/21755 */display: inline-block !important;position: relative;}#sk-container-id-3 div.sk-text-repr-fallback {display: none;}</style><div id=\"sk-container-id-3\" class=\"sk-top-container\"><div class=\"sk-text-repr-fallback\"><pre>TfidfVectorizer(max_features=500000, ngram_range=(1, 2))</pre><b>In a Jupyter environment, please rerun this cell to show the HTML representation or trust the notebook. <br />On GitHub, the HTML representation is unable to render, please try loading this page with nbviewer.org.</b></div><div class=\"sk-container\" hidden><div class=\"sk-item\"><div class=\"sk-estimator sk-toggleable\"><input class=\"sk-toggleable__control sk-hidden--visually\" id=\"sk-estimator-id-3\" type=\"checkbox\" checked><label for=\"sk-estimator-id-3\" class=\"sk-toggleable__label sk-toggleable__label-arrow\">TfidfVectorizer</label><div class=\"sk-toggleable__content\"><pre>TfidfVectorizer(max_features=500000, ngram_range=(1, 2))</pre></div></div></div></div></div>"
            ]
          },
          "metadata": {},
          "execution_count": 217
        }
      ]
    },
    {
      "cell_type": "code",
      "source": [
        "X_train = vectorizer.transform(X_train) # transforms X_train into TF-IDF feature vectors\n",
        "X_test  = vectorizer.transform(X_test) # transforms X_test into TF-IDF feature vectors"
      ],
      "metadata": {
        "id": "iT0HvvbQ4qsM"
      },
      "execution_count": null,
      "outputs": []
    },
    {
      "cell_type": "code",
      "source": [
        "def model_evaluate(model): # Defines a function named model_evaluate that takes a model as its parameter.\n",
        "    y_pred = model.predict(X_test) # uses the predict method of the given model to make predictions on X_test.\n",
        "    print(classification_report(y_test, y_pred)) # Prints the classification report"
      ],
      "metadata": {
        "id": "65kMHnjaQ-up"
      },
      "execution_count": null,
      "outputs": []
    },
    {
      "cell_type": "code",
      "source": [
        "LRmodel = LogisticRegression(C = 2, max_iter = 1000, n_jobs=-1) # creates an instance of logistic regression\n",
        "LRmodel.fit(X_train, y_train) # trains the logistic regression model\n",
        "model_evaluate(LRmodel) # calls the model_evaluate function described in the above codeblock"
      ],
      "metadata": {
        "id": "X2N0lC0wQ-qv",
        "colab": {
          "base_uri": "https://localhost:8080/"
        },
        "outputId": "462ece0f-5930-4639-cfae-61b176b3cdd0"
      },
      "execution_count": null,
      "outputs": [
        {
          "output_type": "stream",
          "name": "stdout",
          "text": [
            "              precision    recall  f1-score   support\n",
            "\n",
            "    Negative       0.88      0.57      0.69       248\n",
            "    Positive       0.82      0.96      0.89       513\n",
            "\n",
            "    accuracy                           0.83       761\n",
            "   macro avg       0.85      0.77      0.79       761\n",
            "weighted avg       0.84      0.83      0.82       761\n",
            "\n"
          ]
        }
      ]
    },
    {
      "cell_type": "code",
      "source": [
        "SVCmodel = LinearSVC() # creates an instance of linear SVC\n",
        "SVCmodel.fit(X_train, y_train) # trains the linear SVC model\n",
        "model_evaluate(SVCmodel) # calls the model_evaluate function"
      ],
      "metadata": {
        "id": "wm3aX15taja7",
        "colab": {
          "base_uri": "https://localhost:8080/"
        },
        "outputId": "2a9c327e-070a-4b5a-d626-2a05a410ba77"
      },
      "execution_count": null,
      "outputs": [
        {
          "output_type": "stream",
          "name": "stdout",
          "text": [
            "              precision    recall  f1-score   support\n",
            "\n",
            "    Negative       0.86      0.65      0.74       248\n",
            "    Positive       0.85      0.95      0.90       513\n",
            "\n",
            "    accuracy                           0.85       761\n",
            "   macro avg       0.85      0.80      0.82       761\n",
            "weighted avg       0.85      0.85      0.84       761\n",
            "\n"
          ]
        }
      ]
    },
    {
      "cell_type": "code",
      "source": [
        "BNBmodel = BernoulliNB(alpha = 2) # creates an instance of BernoulliNB\n",
        "BNBmodel.fit(X_train, y_train) # trains the BernoulliNB model\n",
        "model_evaluate(BNBmodel) # calls the model_evaluate function"
      ],
      "metadata": {
        "id": "hq0SGI_7atgl",
        "colab": {
          "base_uri": "https://localhost:8080/"
        },
        "outputId": "b609ac87-12f6-41b4-c761-40e51fb76ad5"
      },
      "execution_count": null,
      "outputs": [
        {
          "output_type": "stream",
          "name": "stdout",
          "text": [
            "              precision    recall  f1-score   support\n",
            "\n",
            "    Negative       1.00      0.06      0.11       248\n",
            "    Positive       0.69      1.00      0.81       513\n",
            "\n",
            "    accuracy                           0.69       761\n",
            "   macro avg       0.84      0.53      0.46       761\n",
            "weighted avg       0.79      0.69      0.59       761\n",
            "\n"
          ]
        }
      ]
    },
    {
      "cell_type": "code",
      "source": [
        "def predict(model, text): # defines a function predict that takes a model and a text input\n",
        "    # Predict the sentiment\n",
        "    preprocessed_text = preprocess(text) # calls the preprocess function\n",
        "    preprocessed_text = vectorizer.transform(preprocessed_text)\n",
        "    predictions = model.predict(preprocessed_text) # makes a prediction about the preprocessed text\n",
        "\n",
        "    # Make a list of text with sentiment.\n",
        "    data = [] # initializes an empty list\n",
        "    for t, pred in zip(text, predictions): # starts a for loop that runs through the zipped list of text and predictions\n",
        "        data.append((t, pred)) # appends a tuple to data containing the original text t, the numeric prediction, and the sentiment label\n",
        "\n",
        "    return data # returns the data variable"
      ],
      "metadata": {
        "id": "m2_21fphkocn"
      },
      "execution_count": null,
      "outputs": []
    },
    {
      "cell_type": "code",
      "source": [
        "text = [\"This model is awesome\"]\n",
        "prediction = predict(SVCmodel, text)\n",
        "print(prediction)"
      ],
      "metadata": {
        "id": "MJG22iLDhF4o",
        "colab": {
          "base_uri": "https://localhost:8080/"
        },
        "outputId": "9268cafe-c36c-44ac-faeb-4b264da0d0f2"
      },
      "execution_count": null,
      "outputs": [
        {
          "output_type": "stream",
          "name": "stdout",
          "text": [
            "[('This model is awesome', 'Positive')]\n"
          ]
        }
      ]
    }
  ]
}